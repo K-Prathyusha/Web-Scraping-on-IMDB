{
 "cells": [
  {
   "cell_type": "markdown",
   "id": "b8685f97",
   "metadata": {},
   "source": [
    "# Cleaning "
   ]
  },
  {
   "cell_type": "code",
   "execution_count": 66,
   "id": "fa445e81",
   "metadata": {},
   "outputs": [],
   "source": [
    "import pandas as pd\n",
    "import requests\n",
    "from bs4 import BeautifulSoup\n",
    "import re\n",
    "import seaborn"
   ]
  },
  {
   "cell_type": "markdown",
   "id": "9a054c1a",
   "metadata": {},
   "source": [
    "#### Reading final dataframe"
   ]
  },
  {
   "cell_type": "code",
   "execution_count": 67,
   "id": "4998a35a",
   "metadata": {},
   "outputs": [
    {
     "data": {
      "text/html": [
       "<div>\n",
       "<style scoped>\n",
       "    .dataframe tbody tr th:only-of-type {\n",
       "        vertical-align: middle;\n",
       "    }\n",
       "\n",
       "    .dataframe tbody tr th {\n",
       "        vertical-align: top;\n",
       "    }\n",
       "\n",
       "    .dataframe thead th {\n",
       "        text-align: right;\n",
       "    }\n",
       "</style>\n",
       "<table border=\"1\" class=\"dataframe\">\n",
       "  <thead>\n",
       "    <tr style=\"text-align: right;\">\n",
       "      <th></th>\n",
       "      <th>Unnamed: 0</th>\n",
       "      <th>title</th>\n",
       "      <th>genre</th>\n",
       "      <th>certification</th>\n",
       "      <th>year</th>\n",
       "      <th>time</th>\n",
       "      <th>metascore</th>\n",
       "      <th>rating</th>\n",
       "      <th>voting</th>\n",
       "      <th>gross</th>\n",
       "    </tr>\n",
       "  </thead>\n",
       "  <tbody>\n",
       "    <tr>\n",
       "      <th>0</th>\n",
       "      <td>0</td>\n",
       "      <td>\\n1.\\nAmerican Psycho\\n(2000)\\n</td>\n",
       "      <td>\\nCrime, Drama, Horror</td>\n",
       "      <td>A</td>\n",
       "      <td>(2000)</td>\n",
       "      <td>102 min</td>\n",
       "      <td>\\n64        \\n        Metascore\\n</td>\n",
       "      <td>7.6</td>\n",
       "      <td>created - 15 Mar 2012</td>\n",
       "      <td>created - 15 Mar 2012</td>\n",
       "    </tr>\n",
       "    <tr>\n",
       "      <th>1</th>\n",
       "      <td>1</td>\n",
       "      <td>\\n2.\\nBatoru rowaiaru\\n(2000)\\n</td>\n",
       "      <td>\\nAction, Adventure, Drama</td>\n",
       "      <td>18</td>\n",
       "      <td>(2000)</td>\n",
       "      <td>114 min</td>\n",
       "      <td>\\n81        \\n        Metascore\\n</td>\n",
       "      <td>0</td>\n",
       "      <td>updated - 1 month ago</td>\n",
       "      <td>updated - 1 month ago</td>\n",
       "    </tr>\n",
       "    <tr>\n",
       "      <th>2</th>\n",
       "      <td>2</td>\n",
       "      <td>\\n3.\\nWo hu cang long\\n(2000)\\n</td>\n",
       "      <td>\\nAction, Adventure, Drama</td>\n",
       "      <td>UA</td>\n",
       "      <td>(2000)</td>\n",
       "      <td>120 min</td>\n",
       "      <td>\\n94        \\n        Metascore\\n</td>\n",
       "      <td>Rate</td>\n",
       "      <td>\\n        Public\\n</td>\n",
       "      <td>\\n        Public\\n</td>\n",
       "    </tr>\n",
       "    <tr>\n",
       "      <th>3</th>\n",
       "      <td>3</td>\n",
       "      <td>\\n4.\\nFinal Destination\\n(2000)\\n</td>\n",
       "      <td>\\nHorror, Thriller</td>\n",
       "      <td>A</td>\n",
       "      <td>(2000)</td>\n",
       "      <td>98 min</td>\n",
       "      <td>\\n36        \\n        Metascore\\n</td>\n",
       "      <td>1</td>\n",
       "      <td>See titles to watch instantly, titles you have...</td>\n",
       "      <td>See titles to watch instantly, titles you have...</td>\n",
       "    </tr>\n",
       "    <tr>\n",
       "      <th>4</th>\n",
       "      <td>4</td>\n",
       "      <td>\\n5.\\nFrequency\\n(2000)\\n</td>\n",
       "      <td>\\nCrime, Drama, Mystery</td>\n",
       "      <td>A</td>\n",
       "      <td>(2000)</td>\n",
       "      <td>118 min</td>\n",
       "      <td>\\n67        \\n        Metascore\\n</td>\n",
       "      <td>Rate</td>\n",
       "      <td>(165)</td>\n",
       "      <td>(165)</td>\n",
       "    </tr>\n",
       "    <tr>\n",
       "      <th>...</th>\n",
       "      <td>...</td>\n",
       "      <td>...</td>\n",
       "      <td>...</td>\n",
       "      <td>...</td>\n",
       "      <td>...</td>\n",
       "      <td>...</td>\n",
       "      <td>...</td>\n",
       "      <td>...</td>\n",
       "      <td>...</td>\n",
       "      <td>...</td>\n",
       "    </tr>\n",
       "    <tr>\n",
       "      <th>395</th>\n",
       "      <td>395</td>\n",
       "      <td>\\n396.\\n6 Souls\\n(2010)\\n</td>\n",
       "      <td>\\nHorror, Mystery, Thriller</td>\n",
       "      <td>NaN</td>\n",
       "      <td>(2010)</td>\n",
       "      <td>112 min</td>\n",
       "      <td>NaN</td>\n",
       "      <td>1</td>\n",
       "      <td>(147)</td>\n",
       "      <td>(147)</td>\n",
       "    </tr>\n",
       "    <tr>\n",
       "      <th>396</th>\n",
       "      <td>396</td>\n",
       "      <td>\\n397.\\nShutter Island\\n(2010)\\n</td>\n",
       "      <td>\\nMystery, Thriller</td>\n",
       "      <td>NaN</td>\n",
       "      <td>(2010)</td>\n",
       "      <td>138 min</td>\n",
       "      <td>NaN</td>\n",
       "      <td>Rate</td>\n",
       "      <td>(146)</td>\n",
       "      <td>(146)</td>\n",
       "    </tr>\n",
       "    <tr>\n",
       "      <th>397</th>\n",
       "      <td>397</td>\n",
       "      <td>\\n398.\\nTangled\\n(2010)\\n</td>\n",
       "      <td>\\nAnimation, Adventure, Comedy</td>\n",
       "      <td>NaN</td>\n",
       "      <td>(2010)</td>\n",
       "      <td>100 min</td>\n",
       "      <td>NaN</td>\n",
       "      <td>2</td>\n",
       "      <td>(144)</td>\n",
       "      <td>(144)</td>\n",
       "    </tr>\n",
       "    <tr>\n",
       "      <th>398</th>\n",
       "      <td>398</td>\n",
       "      <td>\\n399.\\nThe Chronicles of Narnia: The Voyage o...</td>\n",
       "      <td>\\nAdventure, Family, Fantasy</td>\n",
       "      <td>NaN</td>\n",
       "      <td>(2010)</td>\n",
       "      <td>113 min</td>\n",
       "      <td>NaN</td>\n",
       "      <td>Rate</td>\n",
       "      <td>(142)</td>\n",
       "      <td>(142)</td>\n",
       "    </tr>\n",
       "    <tr>\n",
       "      <th>399</th>\n",
       "      <td>399</td>\n",
       "      <td>\\n400.\\nThe Crazies\\n(2010)\\n</td>\n",
       "      <td>\\nHorror, Mystery, Thriller</td>\n",
       "      <td>NaN</td>\n",
       "      <td>(2010)</td>\n",
       "      <td>101 min</td>\n",
       "      <td>NaN</td>\n",
       "      <td>3</td>\n",
       "      <td>(142)</td>\n",
       "      <td>(142)</td>\n",
       "    </tr>\n",
       "  </tbody>\n",
       "</table>\n",
       "<p>400 rows × 10 columns</p>\n",
       "</div>"
      ],
      "text/plain": [
       "     Unnamed: 0                                              title  \\\n",
       "0             0                    \\n1.\\nAmerican Psycho\\n(2000)\\n   \n",
       "1             1                    \\n2.\\nBatoru rowaiaru\\n(2000)\\n   \n",
       "2             2                    \\n3.\\nWo hu cang long\\n(2000)\\n   \n",
       "3             3                  \\n4.\\nFinal Destination\\n(2000)\\n   \n",
       "4             4                          \\n5.\\nFrequency\\n(2000)\\n   \n",
       "..          ...                                                ...   \n",
       "395         395                          \\n396.\\n6 Souls\\n(2010)\\n   \n",
       "396         396                   \\n397.\\nShutter Island\\n(2010)\\n   \n",
       "397         397                          \\n398.\\nTangled\\n(2010)\\n   \n",
       "398         398  \\n399.\\nThe Chronicles of Narnia: The Voyage o...   \n",
       "399         399                      \\n400.\\nThe Crazies\\n(2010)\\n   \n",
       "\n",
       "                                          genre certification    year  \\\n",
       "0            \\nCrime, Drama, Horror                         A  (2000)   \n",
       "1        \\nAction, Adventure, Drama                        18  (2000)   \n",
       "2        \\nAction, Adventure, Drama                        UA  (2000)   \n",
       "3                \\nHorror, Thriller                         A  (2000)   \n",
       "4           \\nCrime, Drama, Mystery                         A  (2000)   \n",
       "..                                          ...           ...     ...   \n",
       "395     \\nHorror, Mystery, Thriller                       NaN  (2010)   \n",
       "396             \\nMystery, Thriller                       NaN  (2010)   \n",
       "397  \\nAnimation, Adventure, Comedy                       NaN  (2010)   \n",
       "398    \\nAdventure, Family, Fantasy                       NaN  (2010)   \n",
       "399     \\nHorror, Mystery, Thriller                       NaN  (2010)   \n",
       "\n",
       "        time                                  metascore rating  \\\n",
       "0    102 min  \\n64        \\n        Metascore\\n            7.6   \n",
       "1    114 min  \\n81        \\n        Metascore\\n              0   \n",
       "2    120 min  \\n94        \\n        Metascore\\n           Rate   \n",
       "3     98 min  \\n36        \\n        Metascore\\n              1   \n",
       "4    118 min  \\n67        \\n        Metascore\\n           Rate   \n",
       "..       ...                                        ...    ...   \n",
       "395  112 min                                        NaN      1   \n",
       "396  138 min                                        NaN   Rate   \n",
       "397  100 min                                        NaN      2   \n",
       "398  113 min                                        NaN   Rate   \n",
       "399  101 min                                        NaN      3   \n",
       "\n",
       "                                                voting  \\\n",
       "0                                created - 15 Mar 2012   \n",
       "1                                updated - 1 month ago   \n",
       "2                               \\n        Public\\n       \n",
       "3    See titles to watch instantly, titles you have...   \n",
       "4                                                (165)   \n",
       "..                                                 ...   \n",
       "395                                              (147)   \n",
       "396                                              (146)   \n",
       "397                                              (144)   \n",
       "398                                              (142)   \n",
       "399                                              (142)   \n",
       "\n",
       "                                                 gross  \n",
       "0                                created - 15 Mar 2012  \n",
       "1                                updated - 1 month ago  \n",
       "2                               \\n        Public\\n      \n",
       "3    See titles to watch instantly, titles you have...  \n",
       "4                                                (165)  \n",
       "..                                                 ...  \n",
       "395                                              (147)  \n",
       "396                                              (146)  \n",
       "397                                              (144)  \n",
       "398                                              (142)  \n",
       "399                                              (142)  \n",
       "\n",
       "[400 rows x 10 columns]"
      ]
     },
     "execution_count": 67,
     "metadata": {},
     "output_type": "execute_result"
    }
   ],
   "source": [
    "movies=pd.read_csv(r\"C:\\Users\\Reddy\\innomatics research lab\\\\Project_IMDB.csv\")\n",
    "movies"
   ]
  },
  {
   "cell_type": "markdown",
   "id": "2ef1608b",
   "metadata": {},
   "source": [
    "### To drop the unnamed column from the data"
   ]
  },
  {
   "cell_type": "code",
   "execution_count": 68,
   "id": "94f49851",
   "metadata": {},
   "outputs": [
    {
     "data": {
      "text/html": [
       "<div>\n",
       "<style scoped>\n",
       "    .dataframe tbody tr th:only-of-type {\n",
       "        vertical-align: middle;\n",
       "    }\n",
       "\n",
       "    .dataframe tbody tr th {\n",
       "        vertical-align: top;\n",
       "    }\n",
       "\n",
       "    .dataframe thead th {\n",
       "        text-align: right;\n",
       "    }\n",
       "</style>\n",
       "<table border=\"1\" class=\"dataframe\">\n",
       "  <thead>\n",
       "    <tr style=\"text-align: right;\">\n",
       "      <th></th>\n",
       "      <th>title</th>\n",
       "      <th>genre</th>\n",
       "      <th>certification</th>\n",
       "      <th>year</th>\n",
       "      <th>time</th>\n",
       "      <th>metascore</th>\n",
       "      <th>rating</th>\n",
       "      <th>voting</th>\n",
       "      <th>gross</th>\n",
       "    </tr>\n",
       "  </thead>\n",
       "  <tbody>\n",
       "    <tr>\n",
       "      <th>0</th>\n",
       "      <td>\\n1.\\nAmerican Psycho\\n(2000)\\n</td>\n",
       "      <td>\\nCrime, Drama, Horror</td>\n",
       "      <td>A</td>\n",
       "      <td>(2000)</td>\n",
       "      <td>102 min</td>\n",
       "      <td>\\n64        \\n        Metascore\\n</td>\n",
       "      <td>7.6</td>\n",
       "      <td>created - 15 Mar 2012</td>\n",
       "      <td>created - 15 Mar 2012</td>\n",
       "    </tr>\n",
       "    <tr>\n",
       "      <th>1</th>\n",
       "      <td>\\n2.\\nBatoru rowaiaru\\n(2000)\\n</td>\n",
       "      <td>\\nAction, Adventure, Drama</td>\n",
       "      <td>18</td>\n",
       "      <td>(2000)</td>\n",
       "      <td>114 min</td>\n",
       "      <td>\\n81        \\n        Metascore\\n</td>\n",
       "      <td>0</td>\n",
       "      <td>updated - 1 month ago</td>\n",
       "      <td>updated - 1 month ago</td>\n",
       "    </tr>\n",
       "    <tr>\n",
       "      <th>2</th>\n",
       "      <td>\\n3.\\nWo hu cang long\\n(2000)\\n</td>\n",
       "      <td>\\nAction, Adventure, Drama</td>\n",
       "      <td>UA</td>\n",
       "      <td>(2000)</td>\n",
       "      <td>120 min</td>\n",
       "      <td>\\n94        \\n        Metascore\\n</td>\n",
       "      <td>Rate</td>\n",
       "      <td>\\n        Public\\n</td>\n",
       "      <td>\\n        Public\\n</td>\n",
       "    </tr>\n",
       "    <tr>\n",
       "      <th>3</th>\n",
       "      <td>\\n4.\\nFinal Destination\\n(2000)\\n</td>\n",
       "      <td>\\nHorror, Thriller</td>\n",
       "      <td>A</td>\n",
       "      <td>(2000)</td>\n",
       "      <td>98 min</td>\n",
       "      <td>\\n36        \\n        Metascore\\n</td>\n",
       "      <td>1</td>\n",
       "      <td>See titles to watch instantly, titles you have...</td>\n",
       "      <td>See titles to watch instantly, titles you have...</td>\n",
       "    </tr>\n",
       "    <tr>\n",
       "      <th>4</th>\n",
       "      <td>\\n5.\\nFrequency\\n(2000)\\n</td>\n",
       "      <td>\\nCrime, Drama, Mystery</td>\n",
       "      <td>A</td>\n",
       "      <td>(2000)</td>\n",
       "      <td>118 min</td>\n",
       "      <td>\\n67        \\n        Metascore\\n</td>\n",
       "      <td>Rate</td>\n",
       "      <td>(165)</td>\n",
       "      <td>(165)</td>\n",
       "    </tr>\n",
       "    <tr>\n",
       "      <th>...</th>\n",
       "      <td>...</td>\n",
       "      <td>...</td>\n",
       "      <td>...</td>\n",
       "      <td>...</td>\n",
       "      <td>...</td>\n",
       "      <td>...</td>\n",
       "      <td>...</td>\n",
       "      <td>...</td>\n",
       "      <td>...</td>\n",
       "    </tr>\n",
       "    <tr>\n",
       "      <th>395</th>\n",
       "      <td>\\n396.\\n6 Souls\\n(2010)\\n</td>\n",
       "      <td>\\nHorror, Mystery, Thriller</td>\n",
       "      <td>NaN</td>\n",
       "      <td>(2010)</td>\n",
       "      <td>112 min</td>\n",
       "      <td>NaN</td>\n",
       "      <td>1</td>\n",
       "      <td>(147)</td>\n",
       "      <td>(147)</td>\n",
       "    </tr>\n",
       "    <tr>\n",
       "      <th>396</th>\n",
       "      <td>\\n397.\\nShutter Island\\n(2010)\\n</td>\n",
       "      <td>\\nMystery, Thriller</td>\n",
       "      <td>NaN</td>\n",
       "      <td>(2010)</td>\n",
       "      <td>138 min</td>\n",
       "      <td>NaN</td>\n",
       "      <td>Rate</td>\n",
       "      <td>(146)</td>\n",
       "      <td>(146)</td>\n",
       "    </tr>\n",
       "    <tr>\n",
       "      <th>397</th>\n",
       "      <td>\\n398.\\nTangled\\n(2010)\\n</td>\n",
       "      <td>\\nAnimation, Adventure, Comedy</td>\n",
       "      <td>NaN</td>\n",
       "      <td>(2010)</td>\n",
       "      <td>100 min</td>\n",
       "      <td>NaN</td>\n",
       "      <td>2</td>\n",
       "      <td>(144)</td>\n",
       "      <td>(144)</td>\n",
       "    </tr>\n",
       "    <tr>\n",
       "      <th>398</th>\n",
       "      <td>\\n399.\\nThe Chronicles of Narnia: The Voyage o...</td>\n",
       "      <td>\\nAdventure, Family, Fantasy</td>\n",
       "      <td>NaN</td>\n",
       "      <td>(2010)</td>\n",
       "      <td>113 min</td>\n",
       "      <td>NaN</td>\n",
       "      <td>Rate</td>\n",
       "      <td>(142)</td>\n",
       "      <td>(142)</td>\n",
       "    </tr>\n",
       "    <tr>\n",
       "      <th>399</th>\n",
       "      <td>\\n400.\\nThe Crazies\\n(2010)\\n</td>\n",
       "      <td>\\nHorror, Mystery, Thriller</td>\n",
       "      <td>NaN</td>\n",
       "      <td>(2010)</td>\n",
       "      <td>101 min</td>\n",
       "      <td>NaN</td>\n",
       "      <td>3</td>\n",
       "      <td>(142)</td>\n",
       "      <td>(142)</td>\n",
       "    </tr>\n",
       "  </tbody>\n",
       "</table>\n",
       "<p>400 rows × 9 columns</p>\n",
       "</div>"
      ],
      "text/plain": [
       "                                                 title  \\\n",
       "0                      \\n1.\\nAmerican Psycho\\n(2000)\\n   \n",
       "1                      \\n2.\\nBatoru rowaiaru\\n(2000)\\n   \n",
       "2                      \\n3.\\nWo hu cang long\\n(2000)\\n   \n",
       "3                    \\n4.\\nFinal Destination\\n(2000)\\n   \n",
       "4                            \\n5.\\nFrequency\\n(2000)\\n   \n",
       "..                                                 ...   \n",
       "395                          \\n396.\\n6 Souls\\n(2010)\\n   \n",
       "396                   \\n397.\\nShutter Island\\n(2010)\\n   \n",
       "397                          \\n398.\\nTangled\\n(2010)\\n   \n",
       "398  \\n399.\\nThe Chronicles of Narnia: The Voyage o...   \n",
       "399                      \\n400.\\nThe Crazies\\n(2010)\\n   \n",
       "\n",
       "                                          genre certification    year  \\\n",
       "0            \\nCrime, Drama, Horror                         A  (2000)   \n",
       "1        \\nAction, Adventure, Drama                        18  (2000)   \n",
       "2        \\nAction, Adventure, Drama                        UA  (2000)   \n",
       "3                \\nHorror, Thriller                         A  (2000)   \n",
       "4           \\nCrime, Drama, Mystery                         A  (2000)   \n",
       "..                                          ...           ...     ...   \n",
       "395     \\nHorror, Mystery, Thriller                       NaN  (2010)   \n",
       "396             \\nMystery, Thriller                       NaN  (2010)   \n",
       "397  \\nAnimation, Adventure, Comedy                       NaN  (2010)   \n",
       "398    \\nAdventure, Family, Fantasy                       NaN  (2010)   \n",
       "399     \\nHorror, Mystery, Thriller                       NaN  (2010)   \n",
       "\n",
       "        time                                  metascore rating  \\\n",
       "0    102 min  \\n64        \\n        Metascore\\n            7.6   \n",
       "1    114 min  \\n81        \\n        Metascore\\n              0   \n",
       "2    120 min  \\n94        \\n        Metascore\\n           Rate   \n",
       "3     98 min  \\n36        \\n        Metascore\\n              1   \n",
       "4    118 min  \\n67        \\n        Metascore\\n           Rate   \n",
       "..       ...                                        ...    ...   \n",
       "395  112 min                                        NaN      1   \n",
       "396  138 min                                        NaN   Rate   \n",
       "397  100 min                                        NaN      2   \n",
       "398  113 min                                        NaN   Rate   \n",
       "399  101 min                                        NaN      3   \n",
       "\n",
       "                                                voting  \\\n",
       "0                                created - 15 Mar 2012   \n",
       "1                                updated - 1 month ago   \n",
       "2                               \\n        Public\\n       \n",
       "3    See titles to watch instantly, titles you have...   \n",
       "4                                                (165)   \n",
       "..                                                 ...   \n",
       "395                                              (147)   \n",
       "396                                              (146)   \n",
       "397                                              (144)   \n",
       "398                                              (142)   \n",
       "399                                              (142)   \n",
       "\n",
       "                                                 gross  \n",
       "0                                created - 15 Mar 2012  \n",
       "1                                updated - 1 month ago  \n",
       "2                               \\n        Public\\n      \n",
       "3    See titles to watch instantly, titles you have...  \n",
       "4                                                (165)  \n",
       "..                                                 ...  \n",
       "395                                              (147)  \n",
       "396                                              (146)  \n",
       "397                                              (144)  \n",
       "398                                              (142)  \n",
       "399                                              (142)  \n",
       "\n",
       "[400 rows x 9 columns]"
      ]
     },
     "execution_count": 68,
     "metadata": {},
     "output_type": "execute_result"
    }
   ],
   "source": [
    "movies_cleaning=movies.drop('Unnamed: 0',axis=1)\n",
    "movies_cleaning"
   ]
  },
  {
   "cell_type": "markdown",
   "id": "e39010c4",
   "metadata": {},
   "source": [
    "\n",
    "\n",
    "\n",
    "### By describe we get Stastical values (before cleaning the data)"
   ]
  },
  {
   "cell_type": "code",
   "execution_count": 69,
   "id": "f4b9e00c",
   "metadata": {},
   "outputs": [
    {
     "data": {
      "text/html": [
       "<div>\n",
       "<style scoped>\n",
       "    .dataframe tbody tr th:only-of-type {\n",
       "        vertical-align: middle;\n",
       "    }\n",
       "\n",
       "    .dataframe tbody tr th {\n",
       "        vertical-align: top;\n",
       "    }\n",
       "\n",
       "    .dataframe thead th {\n",
       "        text-align: right;\n",
       "    }\n",
       "</style>\n",
       "<table border=\"1\" class=\"dataframe\">\n",
       "  <thead>\n",
       "    <tr style=\"text-align: right;\">\n",
       "      <th></th>\n",
       "      <th>title</th>\n",
       "      <th>genre</th>\n",
       "      <th>certification</th>\n",
       "      <th>year</th>\n",
       "      <th>time</th>\n",
       "      <th>metascore</th>\n",
       "      <th>rating</th>\n",
       "      <th>voting</th>\n",
       "      <th>gross</th>\n",
       "    </tr>\n",
       "  </thead>\n",
       "  <tbody>\n",
       "    <tr>\n",
       "      <th>count</th>\n",
       "      <td>400</td>\n",
       "      <td>400</td>\n",
       "      <td>385</td>\n",
       "      <td>400</td>\n",
       "      <td>400</td>\n",
       "      <td>336</td>\n",
       "      <td>400</td>\n",
       "      <td>400</td>\n",
       "      <td>400</td>\n",
       "    </tr>\n",
       "    <tr>\n",
       "      <th>unique</th>\n",
       "      <td>400</td>\n",
       "      <td>140</td>\n",
       "      <td>16</td>\n",
       "      <td>21</td>\n",
       "      <td>100</td>\n",
       "      <td>69</td>\n",
       "      <td>28</td>\n",
       "      <td>77</td>\n",
       "      <td>77</td>\n",
       "    </tr>\n",
       "    <tr>\n",
       "      <th>top</th>\n",
       "      <td>\\n1.\\nAmerican Psycho\\n(2000)\\n</td>\n",
       "      <td>\\nComedy, Drama, Romance</td>\n",
       "      <td>UA</td>\n",
       "      <td>(2008)</td>\n",
       "      <td>98 min</td>\n",
       "      <td>\\n64        \\n        Metascore\\n</td>\n",
       "      <td>Rate</td>\n",
       "      <td>(160)</td>\n",
       "      <td>(160)</td>\n",
       "    </tr>\n",
       "    <tr>\n",
       "      <th>freq</th>\n",
       "      <td>1</td>\n",
       "      <td>28</td>\n",
       "      <td>115</td>\n",
       "      <td>56</td>\n",
       "      <td>14</td>\n",
       "      <td>13</td>\n",
       "      <td>188</td>\n",
       "      <td>16</td>\n",
       "      <td>16</td>\n",
       "    </tr>\n",
       "  </tbody>\n",
       "</table>\n",
       "</div>"
      ],
      "text/plain": [
       "                                  title                                 genre  \\\n",
       "count                               400                                   400   \n",
       "unique                              400                                   140   \n",
       "top     \\n1.\\nAmerican Psycho\\n(2000)\\n  \\nComedy, Drama, Romance               \n",
       "freq                                  1                                    28   \n",
       "\n",
       "       certification    year    time  \\\n",
       "count            385     400     400   \n",
       "unique            16      21     100   \n",
       "top               UA  (2008)  98 min   \n",
       "freq             115      56      14   \n",
       "\n",
       "                                        metascore rating voting  gross  \n",
       "count                                         336    400    400    400  \n",
       "unique                                         69     28     77     77  \n",
       "top     \\n64        \\n        Metascore\\n           Rate  (160)  (160)  \n",
       "freq                                           13    188     16     16  "
      ]
     },
     "execution_count": 69,
     "metadata": {},
     "output_type": "execute_result"
    }
   ],
   "source": [
    "movies_cleaning.describe()"
   ]
  },
  {
   "cell_type": "code",
   "execution_count": 70,
   "id": "9a3c5ce8",
   "metadata": {},
   "outputs": [
    {
     "data": {
      "text/plain": [
       "(400, 9)"
      ]
     },
     "execution_count": 70,
     "metadata": {},
     "output_type": "execute_result"
    }
   ],
   "source": [
    "movies_cleaning.shape"
   ]
  },
  {
   "cell_type": "markdown",
   "id": "da391649",
   "metadata": {},
   "source": [
    "### All the column names"
   ]
  },
  {
   "cell_type": "code",
   "execution_count": 71,
   "id": "c55cad03",
   "metadata": {},
   "outputs": [
    {
     "data": {
      "text/plain": [
       "Index(['title', 'genre', 'certification', 'year', 'time', 'metascore',\n",
       "       'rating', 'voting', 'gross'],\n",
       "      dtype='object')"
      ]
     },
     "execution_count": 71,
     "metadata": {},
     "output_type": "execute_result"
    }
   ],
   "source": [
    "movies_cleaning.columns"
   ]
  },
  {
   "cell_type": "markdown",
   "id": "c9d00132",
   "metadata": {},
   "source": [
    "### Information about the data"
   ]
  },
  {
   "cell_type": "code",
   "execution_count": 72,
   "id": "61da012a",
   "metadata": {},
   "outputs": [
    {
     "name": "stdout",
     "output_type": "stream",
     "text": [
      "<class 'pandas.core.frame.DataFrame'>\n",
      "RangeIndex: 400 entries, 0 to 399\n",
      "Data columns (total 9 columns):\n",
      " #   Column         Non-Null Count  Dtype \n",
      "---  ------         --------------  ----- \n",
      " 0   title          400 non-null    object\n",
      " 1   genre          400 non-null    object\n",
      " 2   certification  385 non-null    object\n",
      " 3   year           400 non-null    object\n",
      " 4   time           400 non-null    object\n",
      " 5   metascore      336 non-null    object\n",
      " 6   rating         400 non-null    object\n",
      " 7   voting         400 non-null    object\n",
      " 8   gross          400 non-null    object\n",
      "dtypes: object(9)\n",
      "memory usage: 28.2+ KB\n"
     ]
    }
   ],
   "source": [
    "movies_cleaning.info()"
   ]
  },
  {
   "cell_type": "markdown",
   "id": "3a4a2db2",
   "metadata": {},
   "source": []
  },
  {
   "cell_type": "markdown",
   "id": "fc5170a5",
   "metadata": {},
   "source": [
    "## Type casting"
   ]
  },
  {
   "cell_type": "markdown",
   "id": "2c7e37cf",
   "metadata": {},
   "source": [
    "#### converting Year into Numeric values"
   ]
  },
  {
   "cell_type": "code",
   "execution_count": 73,
   "id": "a38f0db3",
   "metadata": {},
   "outputs": [
    {
     "data": {
      "text/plain": [
       "array(['(2000)', '(2001)', '(I) (2001)', '(2002)', '(I) (2002)', '(2003)',\n",
       "       '(2004)', '(2005)', '(II) (2005)', '(2007)', '(2006)',\n",
       "       '(I) (2006)', '(II) (2006)', '(I) (2007)', '(2009)',\n",
       "       '(2007 Video)', '(2008)', '(I) (2008)', '(I) (2009)', '(I) (2010)',\n",
       "       '(2010)'], dtype=object)"
      ]
     },
     "execution_count": 73,
     "metadata": {},
     "output_type": "execute_result"
    }
   ],
   "source": [
    "movies_cleaning['year'].unique()"
   ]
  },
  {
   "cell_type": "code",
   "execution_count": 74,
   "id": "7426c446",
   "metadata": {},
   "outputs": [],
   "source": [
    "a=[]\n",
    "for i in movies_cleaning['year']:\n",
    "    a.append(i.replace('(I)','').replace('(II)','').replace('(','').replace(')',''))\n",
    "movies_cleaning['year']=a"
   ]
  },
  {
   "cell_type": "code",
   "execution_count": 75,
   "id": "5bc7c9be",
   "metadata": {},
   "outputs": [
    {
     "data": {
      "text/plain": [
       "array(['2000', '2001', ' 2001', '2002', ' 2002', '2003', '2004', '2005',\n",
       "       ' 2005', '2007', '2006', ' 2006', ' 2007', '2009', '2007 Video',\n",
       "       '2008', ' 2008', ' 2009', ' 2010', '2010'], dtype=object)"
      ]
     },
     "execution_count": 75,
     "metadata": {},
     "output_type": "execute_result"
    }
   ],
   "source": [
    "movies_cleaning['year'].unique()"
   ]
  },
  {
   "cell_type": "code",
   "execution_count": 76,
   "id": "e66b97d2",
   "metadata": {},
   "outputs": [],
   "source": [
    "movies_cleaning['year']=movies_cleaning['year'].replace('2007 Video','2007').replace('2008 TV Movie','2008')\n"
   ]
  },
  {
   "cell_type": "code",
   "execution_count": 77,
   "id": "2df29c6f",
   "metadata": {},
   "outputs": [
    {
     "data": {
      "text/plain": [
       "array(['2000', '2001', ' 2001', '2002', ' 2002', '2003', '2004', '2005',\n",
       "       ' 2005', '2007', '2006', ' 2006', ' 2007', '2009', '2008', ' 2008',\n",
       "       ' 2009', ' 2010', '2010'], dtype=object)"
      ]
     },
     "execution_count": 77,
     "metadata": {},
     "output_type": "execute_result"
    }
   ],
   "source": [
    "movies_cleaning['year'].unique()"
   ]
  },
  {
   "cell_type": "code",
   "execution_count": 78,
   "id": "75e5d85c",
   "metadata": {},
   "outputs": [],
   "source": [
    "movies_cleaning['year']=movies_cleaning['year'].replace('2007 Video','').replace('2008 TV Movie','')"
   ]
  },
  {
   "cell_type": "markdown",
   "id": "c2ad8671",
   "metadata": {},
   "source": [
    "##### converting into numeric values"
   ]
  },
  {
   "cell_type": "code",
   "execution_count": 79,
   "id": "44ce58bd",
   "metadata": {},
   "outputs": [
    {
     "data": {
      "text/plain": [
       "0      2000\n",
       "1      2000\n",
       "2      2000\n",
       "3      2000\n",
       "4      2000\n",
       "       ... \n",
       "395    2010\n",
       "396    2010\n",
       "397    2010\n",
       "398    2010\n",
       "399    2010\n",
       "Name: year, Length: 400, dtype: int64"
      ]
     },
     "execution_count": 79,
     "metadata": {},
     "output_type": "execute_result"
    }
   ],
   "source": [
    "movies_cleaning['year']=pd.to_numeric(movies_cleaning['year'])\n",
    "movies_cleaning['year']"
   ]
  },
  {
   "cell_type": "markdown",
   "id": "4e902219",
   "metadata": {},
   "source": [
    "### Converting time into Numeric values "
   ]
  },
  {
   "cell_type": "code",
   "execution_count": 80,
   "id": "a95bda2f",
   "metadata": {
    "scrolled": true
   },
   "outputs": [
    {
     "data": {
      "text/plain": [
       "array(['102 min', '114 min', '120 min', '98 min', '118 min', '108 min',\n",
       "       '155 min', '104 min', '129 min', '216 min', '109 min', '93 min',\n",
       "       '88 min', '107 min', '101 min', '106 min', '146 min', '183 min',\n",
       "       '113 min', '137 min', '152 min', '178 min', '92 min', '224 min',\n",
       "       '100 min', '116 min', '147 min', '90 min', '124 min', '122 min',\n",
       "       '159 min', '136 min', '112 min', '141 min', '185 min', '161 min',\n",
       "       '81 min', '145 min', '95 min', '121 min', '119 min', '179 min',\n",
       "       '115 min', '86 min', '96 min', '172 min', '154 min', '103 min',\n",
       "       '132 min', '97 min', '117 min', '89 min', '186 min', '111 min',\n",
       "       '156 min', '143 min', '149 min', '127 min', '84 min', '110 min',\n",
       "       '138 min', '134 min', '99 min', '144 min', '80 min', '94 min',\n",
       "       '142 min', '131 min', '210 min', '105 min', '170 min', '91 min',\n",
       "       '123 min', '128 min', '163 min', '140 min', '77 min', '157 min',\n",
       "       '187 min', '180 min', '126 min', '168 min', '151 min', '167 min',\n",
       "       '130 min', '174 min', '153 min', '150 min', '148 min', '162 min',\n",
       "       '169 min', '165 min', '158 min', '85 min', '82 min', '166 min',\n",
       "       '79 min', '71 min', '87 min', '175 min'], dtype=object)"
      ]
     },
     "execution_count": 80,
     "metadata": {},
     "output_type": "execute_result"
    }
   ],
   "source": [
    "movies_cleaning['time'].unique()"
   ]
  },
  {
   "cell_type": "code",
   "execution_count": 81,
   "id": "9735e919",
   "metadata": {},
   "outputs": [],
   "source": [
    "a=[]\n",
    "for i in movies_cleaning['time']:\n",
    "    a.append(i.replace('min',''))\n",
    "movies_cleaning['time']=a"
   ]
  },
  {
   "cell_type": "code",
   "execution_count": 82,
   "id": "7c9a1483",
   "metadata": {},
   "outputs": [
    {
     "data": {
      "text/plain": [
       "0      102\n",
       "1      114\n",
       "2      120\n",
       "3       98\n",
       "4      118\n",
       "      ... \n",
       "395    112\n",
       "396    138\n",
       "397    100\n",
       "398    113\n",
       "399    101\n",
       "Name: time, Length: 400, dtype: int64"
      ]
     },
     "execution_count": 82,
     "metadata": {},
     "output_type": "execute_result"
    }
   ],
   "source": [
    "\n",
    "movies_cleaning['time']=pd.to_numeric(movies_cleaning['time'])\n",
    "movies_cleaning['time']"
   ]
  },
  {
   "cell_type": "code",
   "execution_count": null,
   "id": "03049bb6",
   "metadata": {},
   "outputs": [],
   "source": []
  },
  {
   "cell_type": "markdown",
   "id": "335eec85",
   "metadata": {},
   "source": [
    "#### converting voting into integer values"
   ]
  },
  {
   "cell_type": "code",
   "execution_count": 83,
   "id": "4386fbf3",
   "metadata": {},
   "outputs": [
    {
     "data": {
      "text/plain": [
       "array(['created - 15 Mar 2012', 'updated - 1 month ago',\n",
       "       '\\n        Public\\n    ',\n",
       "       \"See titles to watch instantly, titles you haven't rated, etc\",\n",
       "       '(165)', '(153)', '(443)', '(319)', '(258)', '(250)', '(178)',\n",
       "       '(170)', '(156)', '(147)', '(137)', '(126)', '(77)', '(45)',\n",
       "       '(38)', '(26)', '(25)', '(19)', '(16)', '(14)', '(6)', '(804)',\n",
       "       '(2)', '(388)', '(361)', '(349)', '(320)', '(294)', '(280)',\n",
       "       '(269)', '(255)', '(253)', '(243)', '(241)', '(239)', '(238)',\n",
       "       '(235)', '(231)', '(230)', '(229)', '(222)', '(221)', '(218)',\n",
       "       '(216)', '(214)', '(206)', '(203)', '(202)', '(200)', '(199)',\n",
       "       '(197)', '(195)', '(194)', '(189)', '(186)', '(185)', '(183)',\n",
       "       '(181)', '(180)', '(172)', '(166)', '(164)', '(160)', '(159)',\n",
       "       '(157)', '(155)', '(154)', '(151)', '(149)', '(148)', '(146)',\n",
       "       '(144)', '(142)'], dtype=object)"
      ]
     },
     "execution_count": 83,
     "metadata": {},
     "output_type": "execute_result"
    }
   ],
   "source": [
    "movies_cleaning['voting'].unique()"
   ]
  },
  {
   "cell_type": "code",
   "execution_count": 84,
   "id": "d5b3ac23",
   "metadata": {},
   "outputs": [],
   "source": [
    "movies_cleaning['voting']=movies_cleaning['voting'].replace(\"created - 15 Mar 2012\", \"130\").replace(\"updated - 1 month ago\",\"156\").replace(\"\\n        Public\\n    \",\"140\").replace(\"See titles to watch instantly, titles you haven't rated, etc\",\"190\")"
   ]
  },
  {
   "cell_type": "code",
   "execution_count": 85,
   "id": "497af0ca",
   "metadata": {},
   "outputs": [],
   "source": [
    "c=[]\n",
    "for i in movies_cleaning['voting']:\n",
    "    c.append(i.replace(\"(\",\"\").replace(\")\",\"\"))\n",
    "movies_cleaning['voting']=c"
   ]
  },
  {
   "cell_type": "code",
   "execution_count": 86,
   "id": "c0c92dd2",
   "metadata": {},
   "outputs": [
    {
     "data": {
      "text/plain": [
       "0      130\n",
       "1      156\n",
       "2      140\n",
       "3      190\n",
       "4      165\n",
       "      ... \n",
       "395    147\n",
       "396    146\n",
       "397    144\n",
       "398    142\n",
       "399    142\n",
       "Name: voting, Length: 400, dtype: object"
      ]
     },
     "execution_count": 86,
     "metadata": {},
     "output_type": "execute_result"
    }
   ],
   "source": [
    "movies_cleaning['voting']"
   ]
  },
  {
   "cell_type": "code",
   "execution_count": 87,
   "id": "2868b205",
   "metadata": {},
   "outputs": [
    {
     "data": {
      "text/plain": [
       "0      130\n",
       "1      156\n",
       "2      140\n",
       "3      190\n",
       "4      165\n",
       "      ... \n",
       "395    147\n",
       "396    146\n",
       "397    144\n",
       "398    142\n",
       "399    142\n",
       "Name: voting, Length: 400, dtype: int64"
      ]
     },
     "execution_count": 87,
     "metadata": {},
     "output_type": "execute_result"
    }
   ],
   "source": [
    "movies_cleaning['voting']=pd.to_numeric(movies_cleaning['voting'])\n",
    "movies_cleaning['voting']"
   ]
  },
  {
   "cell_type": "code",
   "execution_count": null,
   "id": "2d2abd29",
   "metadata": {},
   "outputs": [],
   "source": [
    "\n",
    "\n"
   ]
  },
  {
   "cell_type": "markdown",
   "id": "b5ec5571",
   "metadata": {},
   "source": [
    "### converting Rating into integer"
   ]
  },
  {
   "cell_type": "code",
   "execution_count": 88,
   "id": "6d45274a",
   "metadata": {},
   "outputs": [
    {
     "data": {
      "text/plain": [
       "array(['7.6', '0', 'Rate', '1', '2', '3', '4', '5', '6', '7', '8', '9',\n",
       "       '10', '7.9', '6.7', '7.4', '5.6', '8.1', '6.8', '6.5', '6.6',\n",
       "       '8.5', '7.8', '7.7', '6.4', '5.9', '7.2', '4.9'], dtype=object)"
      ]
     },
     "execution_count": 88,
     "metadata": {},
     "output_type": "execute_result"
    }
   ],
   "source": [
    "movies_cleaning['rating'].unique()"
   ]
  },
  {
   "cell_type": "code",
   "execution_count": 89,
   "id": "47b5d42e",
   "metadata": {},
   "outputs": [],
   "source": [
    "d=[]\n",
    "for i in movies_cleaning['rating']:\n",
    "    d.append(i.replace(\"Rate\",\"5\"))\n",
    "movies_cleaning['rating']=d"
   ]
  },
  {
   "cell_type": "code",
   "execution_count": 90,
   "id": "981af2e3",
   "metadata": {},
   "outputs": [
    {
     "data": {
      "text/plain": [
       "0      7.6\n",
       "1      0.0\n",
       "2      5.0\n",
       "3      1.0\n",
       "4      5.0\n",
       "      ... \n",
       "395    1.0\n",
       "396    5.0\n",
       "397    2.0\n",
       "398    5.0\n",
       "399    3.0\n",
       "Name: rating, Length: 400, dtype: float64"
      ]
     },
     "execution_count": 90,
     "metadata": {},
     "output_type": "execute_result"
    }
   ],
   "source": [
    "movies_cleaning['rating']=pd.to_numeric(movies_cleaning['rating'])\n",
    "movies_cleaning['rating']"
   ]
  },
  {
   "cell_type": "markdown",
   "id": "a3e2b4c8",
   "metadata": {},
   "source": [
    "### Converting Gross into Integer"
   ]
  },
  {
   "cell_type": "code",
   "execution_count": 91,
   "id": "870a0d55",
   "metadata": {},
   "outputs": [
    {
     "data": {
      "text/plain": [
       "array(['created - 15 Mar 2012', 'updated - 1 month ago',\n",
       "       '\\n        Public\\n    ',\n",
       "       \"See titles to watch instantly, titles you haven't rated, etc\",\n",
       "       '(165)', '(153)', '(443)', '(319)', '(258)', '(250)', '(178)',\n",
       "       '(170)', '(156)', '(147)', '(137)', '(126)', '(77)', '(45)',\n",
       "       '(38)', '(26)', '(25)', '(19)', '(16)', '(14)', '(6)', '(804)',\n",
       "       '(2)', '(388)', '(361)', '(349)', '(320)', '(294)', '(280)',\n",
       "       '(269)', '(255)', '(253)', '(243)', '(241)', '(239)', '(238)',\n",
       "       '(235)', '(231)', '(230)', '(229)', '(222)', '(221)', '(218)',\n",
       "       '(216)', '(214)', '(206)', '(203)', '(202)', '(200)', '(199)',\n",
       "       '(197)', '(195)', '(194)', '(189)', '(186)', '(185)', '(183)',\n",
       "       '(181)', '(180)', '(172)', '(166)', '(164)', '(160)', '(159)',\n",
       "       '(157)', '(155)', '(154)', '(151)', '(149)', '(148)', '(146)',\n",
       "       '(144)', '(142)'], dtype=object)"
      ]
     },
     "execution_count": 91,
     "metadata": {},
     "output_type": "execute_result"
    }
   ],
   "source": [
    "movies_cleaning['gross'].unique()"
   ]
  },
  {
   "cell_type": "code",
   "execution_count": 92,
   "id": "f5a868b5",
   "metadata": {},
   "outputs": [],
   "source": [
    "movies_cleaning['gross']=movies_cleaning['gross'].replace(\"created - 15 Mar 2012\",\"13\").replace(\"updated - 1 month ago\",\"150\").replace(\"\\n        Public\\n    \",\"170\").replace(\"See titles to watch instantly, titles you haven't rated, etc\",\"230\")"
   ]
  },
  {
   "cell_type": "code",
   "execution_count": 93,
   "id": "9a8e0a8f",
   "metadata": {},
   "outputs": [],
   "source": [
    "e=[]\n",
    "for i in movies_cleaning['gross']:\n",
    "    e.append(i.replace(\"(\",\"\").replace(\")\",\"\"))\n",
    "movies_cleaning['gross']=e"
   ]
  },
  {
   "cell_type": "code",
   "execution_count": 94,
   "id": "5c049d3c",
   "metadata": {},
   "outputs": [
    {
     "data": {
      "text/plain": [
       "0       13\n",
       "1      150\n",
       "2      170\n",
       "3      230\n",
       "4      165\n",
       "      ... \n",
       "395    147\n",
       "396    146\n",
       "397    144\n",
       "398    142\n",
       "399    142\n",
       "Name: gross, Length: 400, dtype: int64"
      ]
     },
     "execution_count": 94,
     "metadata": {},
     "output_type": "execute_result"
    }
   ],
   "source": [
    "movies_cleaning['gross']=pd.to_numeric(movies_cleaning['gross'])\n",
    "movies_cleaning['gross']"
   ]
  },
  {
   "cell_type": "code",
   "execution_count": 95,
   "id": "3d6e2de5",
   "metadata": {},
   "outputs": [
    {
     "name": "stdout",
     "output_type": "stream",
     "text": [
      "<class 'pandas.core.frame.DataFrame'>\n",
      "RangeIndex: 400 entries, 0 to 399\n",
      "Data columns (total 9 columns):\n",
      " #   Column         Non-Null Count  Dtype  \n",
      "---  ------         --------------  -----  \n",
      " 0   title          400 non-null    object \n",
      " 1   genre          400 non-null    object \n",
      " 2   certification  385 non-null    object \n",
      " 3   year           400 non-null    int64  \n",
      " 4   time           400 non-null    int64  \n",
      " 5   metascore      336 non-null    object \n",
      " 6   rating         400 non-null    float64\n",
      " 7   voting         400 non-null    int64  \n",
      " 8   gross          400 non-null    int64  \n",
      "dtypes: float64(1), int64(4), object(4)\n",
      "memory usage: 28.2+ KB\n"
     ]
    }
   ],
   "source": [
    "movies_cleaning.info()"
   ]
  },
  {
   "cell_type": "markdown",
   "id": "5ac9fe44",
   "metadata": {},
   "source": [
    "#### By describe we get Stastical Values"
   ]
  },
  {
   "cell_type": "code",
   "execution_count": 96,
   "id": "58f6ecc7",
   "metadata": {},
   "outputs": [
    {
     "data": {
      "text/html": [
       "<div>\n",
       "<style scoped>\n",
       "    .dataframe tbody tr th:only-of-type {\n",
       "        vertical-align: middle;\n",
       "    }\n",
       "\n",
       "    .dataframe tbody tr th {\n",
       "        vertical-align: top;\n",
       "    }\n",
       "\n",
       "    .dataframe thead th {\n",
       "        text-align: right;\n",
       "    }\n",
       "</style>\n",
       "<table border=\"1\" class=\"dataframe\">\n",
       "  <thead>\n",
       "    <tr style=\"text-align: right;\">\n",
       "      <th></th>\n",
       "      <th>year</th>\n",
       "      <th>time</th>\n",
       "      <th>rating</th>\n",
       "      <th>voting</th>\n",
       "      <th>gross</th>\n",
       "    </tr>\n",
       "  </thead>\n",
       "  <tbody>\n",
       "    <tr>\n",
       "      <th>count</th>\n",
       "      <td>400.000000</td>\n",
       "      <td>400.000000</td>\n",
       "      <td>400.000000</td>\n",
       "      <td>400.000000</td>\n",
       "      <td>400.000000</td>\n",
       "    </tr>\n",
       "    <tr>\n",
       "      <th>mean</th>\n",
       "      <td>2005.670000</td>\n",
       "      <td>118.292500</td>\n",
       "      <td>4.959750</td>\n",
       "      <td>188.950000</td>\n",
       "      <td>188.420000</td>\n",
       "    </tr>\n",
       "    <tr>\n",
       "      <th>std</th>\n",
       "      <td>2.865594</td>\n",
       "      <td>25.899787</td>\n",
       "      <td>2.278879</td>\n",
       "      <td>99.355555</td>\n",
       "      <td>100.735061</td>\n",
       "    </tr>\n",
       "    <tr>\n",
       "      <th>min</th>\n",
       "      <td>2000.000000</td>\n",
       "      <td>71.000000</td>\n",
       "      <td>0.000000</td>\n",
       "      <td>2.000000</td>\n",
       "      <td>2.000000</td>\n",
       "    </tr>\n",
       "    <tr>\n",
       "      <th>25%</th>\n",
       "      <td>2004.000000</td>\n",
       "      <td>100.000000</td>\n",
       "      <td>5.000000</td>\n",
       "      <td>153.000000</td>\n",
       "      <td>153.000000</td>\n",
       "    </tr>\n",
       "    <tr>\n",
       "      <th>50%</th>\n",
       "      <td>2006.000000</td>\n",
       "      <td>112.000000</td>\n",
       "      <td>5.000000</td>\n",
       "      <td>178.000000</td>\n",
       "      <td>178.000000</td>\n",
       "    </tr>\n",
       "    <tr>\n",
       "      <th>75%</th>\n",
       "      <td>2008.000000</td>\n",
       "      <td>129.000000</td>\n",
       "      <td>5.000000</td>\n",
       "      <td>223.750000</td>\n",
       "      <td>229.250000</td>\n",
       "    </tr>\n",
       "    <tr>\n",
       "      <th>max</th>\n",
       "      <td>2010.000000</td>\n",
       "      <td>224.000000</td>\n",
       "      <td>10.000000</td>\n",
       "      <td>804.000000</td>\n",
       "      <td>804.000000</td>\n",
       "    </tr>\n",
       "  </tbody>\n",
       "</table>\n",
       "</div>"
      ],
      "text/plain": [
       "              year        time      rating      voting       gross\n",
       "count   400.000000  400.000000  400.000000  400.000000  400.000000\n",
       "mean   2005.670000  118.292500    4.959750  188.950000  188.420000\n",
       "std       2.865594   25.899787    2.278879   99.355555  100.735061\n",
       "min    2000.000000   71.000000    0.000000    2.000000    2.000000\n",
       "25%    2004.000000  100.000000    5.000000  153.000000  153.000000\n",
       "50%    2006.000000  112.000000    5.000000  178.000000  178.000000\n",
       "75%    2008.000000  129.000000    5.000000  223.750000  229.250000\n",
       "max    2010.000000  224.000000   10.000000  804.000000  804.000000"
      ]
     },
     "execution_count": 96,
     "metadata": {},
     "output_type": "execute_result"
    }
   ],
   "source": [
    "movies_cleaning.describe()"
   ]
  },
  {
   "cell_type": "code",
   "execution_count": 97,
   "id": "a73b62a0",
   "metadata": {},
   "outputs": [
    {
     "data": {
      "text/plain": [
       "(400, 9)"
      ]
     },
     "execution_count": 97,
     "metadata": {},
     "output_type": "execute_result"
    }
   ],
   "source": [
    "movies_cleaning.shape"
   ]
  },
  {
   "cell_type": "markdown",
   "id": "44b405cc",
   "metadata": {},
   "source": [
    "#### After cleaning the data, file saved to imbd csv "
   ]
  },
  {
   "cell_type": "code",
   "execution_count": 98,
   "id": "5e091483",
   "metadata": {},
   "outputs": [],
   "source": [
    "movies_cleaning.to_csv('imbd.csv')"
   ]
  },
  {
   "cell_type": "code",
   "execution_count": 99,
   "id": "cb405e0d",
   "metadata": {},
   "outputs": [
    {
     "data": {
      "text/html": [
       "<div>\n",
       "<style scoped>\n",
       "    .dataframe tbody tr th:only-of-type {\n",
       "        vertical-align: middle;\n",
       "    }\n",
       "\n",
       "    .dataframe tbody tr th {\n",
       "        vertical-align: top;\n",
       "    }\n",
       "\n",
       "    .dataframe thead th {\n",
       "        text-align: right;\n",
       "    }\n",
       "</style>\n",
       "<table border=\"1\" class=\"dataframe\">\n",
       "  <thead>\n",
       "    <tr style=\"text-align: right;\">\n",
       "      <th></th>\n",
       "      <th>Unnamed: 0</th>\n",
       "      <th>title</th>\n",
       "      <th>genre</th>\n",
       "      <th>certification</th>\n",
       "      <th>year</th>\n",
       "      <th>time</th>\n",
       "      <th>metascore</th>\n",
       "      <th>rating</th>\n",
       "      <th>voting</th>\n",
       "      <th>gross</th>\n",
       "    </tr>\n",
       "  </thead>\n",
       "  <tbody>\n",
       "    <tr>\n",
       "      <th>0</th>\n",
       "      <td>0</td>\n",
       "      <td>\\n1.\\nAmerican Psycho\\n(2000)\\n</td>\n",
       "      <td>\\nCrime, Drama, Horror</td>\n",
       "      <td>A</td>\n",
       "      <td>2000</td>\n",
       "      <td>102</td>\n",
       "      <td>\\n64        \\n        Metascore\\n</td>\n",
       "      <td>7.6</td>\n",
       "      <td>130</td>\n",
       "      <td>13</td>\n",
       "    </tr>\n",
       "    <tr>\n",
       "      <th>1</th>\n",
       "      <td>1</td>\n",
       "      <td>\\n2.\\nBatoru rowaiaru\\n(2000)\\n</td>\n",
       "      <td>\\nAction, Adventure, Drama</td>\n",
       "      <td>18</td>\n",
       "      <td>2000</td>\n",
       "      <td>114</td>\n",
       "      <td>\\n81        \\n        Metascore\\n</td>\n",
       "      <td>0.0</td>\n",
       "      <td>156</td>\n",
       "      <td>150</td>\n",
       "    </tr>\n",
       "    <tr>\n",
       "      <th>2</th>\n",
       "      <td>2</td>\n",
       "      <td>\\n3.\\nWo hu cang long\\n(2000)\\n</td>\n",
       "      <td>\\nAction, Adventure, Drama</td>\n",
       "      <td>UA</td>\n",
       "      <td>2000</td>\n",
       "      <td>120</td>\n",
       "      <td>\\n94        \\n        Metascore\\n</td>\n",
       "      <td>5.0</td>\n",
       "      <td>140</td>\n",
       "      <td>170</td>\n",
       "    </tr>\n",
       "    <tr>\n",
       "      <th>3</th>\n",
       "      <td>3</td>\n",
       "      <td>\\n4.\\nFinal Destination\\n(2000)\\n</td>\n",
       "      <td>\\nHorror, Thriller</td>\n",
       "      <td>A</td>\n",
       "      <td>2000</td>\n",
       "      <td>98</td>\n",
       "      <td>\\n36        \\n        Metascore\\n</td>\n",
       "      <td>1.0</td>\n",
       "      <td>190</td>\n",
       "      <td>230</td>\n",
       "    </tr>\n",
       "    <tr>\n",
       "      <th>4</th>\n",
       "      <td>4</td>\n",
       "      <td>\\n5.\\nFrequency\\n(2000)\\n</td>\n",
       "      <td>\\nCrime, Drama, Mystery</td>\n",
       "      <td>A</td>\n",
       "      <td>2000</td>\n",
       "      <td>118</td>\n",
       "      <td>\\n67        \\n        Metascore\\n</td>\n",
       "      <td>5.0</td>\n",
       "      <td>165</td>\n",
       "      <td>165</td>\n",
       "    </tr>\n",
       "    <tr>\n",
       "      <th>...</th>\n",
       "      <td>...</td>\n",
       "      <td>...</td>\n",
       "      <td>...</td>\n",
       "      <td>...</td>\n",
       "      <td>...</td>\n",
       "      <td>...</td>\n",
       "      <td>...</td>\n",
       "      <td>...</td>\n",
       "      <td>...</td>\n",
       "      <td>...</td>\n",
       "    </tr>\n",
       "    <tr>\n",
       "      <th>395</th>\n",
       "      <td>395</td>\n",
       "      <td>\\n396.\\n6 Souls\\n(2010)\\n</td>\n",
       "      <td>\\nHorror, Mystery, Thriller</td>\n",
       "      <td>NaN</td>\n",
       "      <td>2010</td>\n",
       "      <td>112</td>\n",
       "      <td>NaN</td>\n",
       "      <td>1.0</td>\n",
       "      <td>147</td>\n",
       "      <td>147</td>\n",
       "    </tr>\n",
       "    <tr>\n",
       "      <th>396</th>\n",
       "      <td>396</td>\n",
       "      <td>\\n397.\\nShutter Island\\n(2010)\\n</td>\n",
       "      <td>\\nMystery, Thriller</td>\n",
       "      <td>NaN</td>\n",
       "      <td>2010</td>\n",
       "      <td>138</td>\n",
       "      <td>NaN</td>\n",
       "      <td>5.0</td>\n",
       "      <td>146</td>\n",
       "      <td>146</td>\n",
       "    </tr>\n",
       "    <tr>\n",
       "      <th>397</th>\n",
       "      <td>397</td>\n",
       "      <td>\\n398.\\nTangled\\n(2010)\\n</td>\n",
       "      <td>\\nAnimation, Adventure, Comedy</td>\n",
       "      <td>NaN</td>\n",
       "      <td>2010</td>\n",
       "      <td>100</td>\n",
       "      <td>NaN</td>\n",
       "      <td>2.0</td>\n",
       "      <td>144</td>\n",
       "      <td>144</td>\n",
       "    </tr>\n",
       "    <tr>\n",
       "      <th>398</th>\n",
       "      <td>398</td>\n",
       "      <td>\\n399.\\nThe Chronicles of Narnia: The Voyage o...</td>\n",
       "      <td>\\nAdventure, Family, Fantasy</td>\n",
       "      <td>NaN</td>\n",
       "      <td>2010</td>\n",
       "      <td>113</td>\n",
       "      <td>NaN</td>\n",
       "      <td>5.0</td>\n",
       "      <td>142</td>\n",
       "      <td>142</td>\n",
       "    </tr>\n",
       "    <tr>\n",
       "      <th>399</th>\n",
       "      <td>399</td>\n",
       "      <td>\\n400.\\nThe Crazies\\n(2010)\\n</td>\n",
       "      <td>\\nHorror, Mystery, Thriller</td>\n",
       "      <td>NaN</td>\n",
       "      <td>2010</td>\n",
       "      <td>101</td>\n",
       "      <td>NaN</td>\n",
       "      <td>3.0</td>\n",
       "      <td>142</td>\n",
       "      <td>142</td>\n",
       "    </tr>\n",
       "  </tbody>\n",
       "</table>\n",
       "<p>400 rows × 10 columns</p>\n",
       "</div>"
      ],
      "text/plain": [
       "     Unnamed: 0                                              title  \\\n",
       "0             0                    \\n1.\\nAmerican Psycho\\n(2000)\\n   \n",
       "1             1                    \\n2.\\nBatoru rowaiaru\\n(2000)\\n   \n",
       "2             2                    \\n3.\\nWo hu cang long\\n(2000)\\n   \n",
       "3             3                  \\n4.\\nFinal Destination\\n(2000)\\n   \n",
       "4             4                          \\n5.\\nFrequency\\n(2000)\\n   \n",
       "..          ...                                                ...   \n",
       "395         395                          \\n396.\\n6 Souls\\n(2010)\\n   \n",
       "396         396                   \\n397.\\nShutter Island\\n(2010)\\n   \n",
       "397         397                          \\n398.\\nTangled\\n(2010)\\n   \n",
       "398         398  \\n399.\\nThe Chronicles of Narnia: The Voyage o...   \n",
       "399         399                      \\n400.\\nThe Crazies\\n(2010)\\n   \n",
       "\n",
       "                                          genre certification  year  time  \\\n",
       "0            \\nCrime, Drama, Horror                         A  2000   102   \n",
       "1        \\nAction, Adventure, Drama                        18  2000   114   \n",
       "2        \\nAction, Adventure, Drama                        UA  2000   120   \n",
       "3                \\nHorror, Thriller                         A  2000    98   \n",
       "4           \\nCrime, Drama, Mystery                         A  2000   118   \n",
       "..                                          ...           ...   ...   ...   \n",
       "395     \\nHorror, Mystery, Thriller                       NaN  2010   112   \n",
       "396             \\nMystery, Thriller                       NaN  2010   138   \n",
       "397  \\nAnimation, Adventure, Comedy                       NaN  2010   100   \n",
       "398    \\nAdventure, Family, Fantasy                       NaN  2010   113   \n",
       "399     \\nHorror, Mystery, Thriller                       NaN  2010   101   \n",
       "\n",
       "                                     metascore  rating  voting  gross  \n",
       "0    \\n64        \\n        Metascore\\n             7.6     130     13  \n",
       "1    \\n81        \\n        Metascore\\n             0.0     156    150  \n",
       "2    \\n94        \\n        Metascore\\n             5.0     140    170  \n",
       "3    \\n36        \\n        Metascore\\n             1.0     190    230  \n",
       "4    \\n67        \\n        Metascore\\n             5.0     165    165  \n",
       "..                                         ...     ...     ...    ...  \n",
       "395                                        NaN     1.0     147    147  \n",
       "396                                        NaN     5.0     146    146  \n",
       "397                                        NaN     2.0     144    144  \n",
       "398                                        NaN     5.0     142    142  \n",
       "399                                        NaN     3.0     142    142  \n",
       "\n",
       "[400 rows x 10 columns]"
      ]
     },
     "execution_count": 99,
     "metadata": {},
     "output_type": "execute_result"
    }
   ],
   "source": [
    "movies_cleaning1=pd.read_csv(r\"C:\\Users\\Reddy\\innomatics research lab\\after_cleaning_imbd.csv\")\n",
    "movies_cleaning1"
   ]
  },
  {
   "cell_type": "markdown",
   "id": "135eaf8d",
   "metadata": {},
   "source": [
    "### Dataframe after Cleaning"
   ]
  },
  {
   "cell_type": "code",
   "execution_count": 100,
   "id": "16ca8ce4",
   "metadata": {},
   "outputs": [
    {
     "data": {
      "text/html": [
       "<div>\n",
       "<style scoped>\n",
       "    .dataframe tbody tr th:only-of-type {\n",
       "        vertical-align: middle;\n",
       "    }\n",
       "\n",
       "    .dataframe tbody tr th {\n",
       "        vertical-align: top;\n",
       "    }\n",
       "\n",
       "    .dataframe thead th {\n",
       "        text-align: right;\n",
       "    }\n",
       "</style>\n",
       "<table border=\"1\" class=\"dataframe\">\n",
       "  <thead>\n",
       "    <tr style=\"text-align: right;\">\n",
       "      <th></th>\n",
       "      <th>title</th>\n",
       "      <th>genre</th>\n",
       "      <th>certification</th>\n",
       "      <th>year</th>\n",
       "      <th>time</th>\n",
       "      <th>metascore</th>\n",
       "      <th>rating</th>\n",
       "      <th>voting</th>\n",
       "      <th>gross</th>\n",
       "    </tr>\n",
       "  </thead>\n",
       "  <tbody>\n",
       "    <tr>\n",
       "      <th>0</th>\n",
       "      <td>\\n1.\\nAmerican Psycho\\n(2000)\\n</td>\n",
       "      <td>\\nCrime, Drama, Horror</td>\n",
       "      <td>A</td>\n",
       "      <td>2000</td>\n",
       "      <td>102</td>\n",
       "      <td>\\n64        \\n        Metascore\\n</td>\n",
       "      <td>7.6</td>\n",
       "      <td>130</td>\n",
       "      <td>13</td>\n",
       "    </tr>\n",
       "    <tr>\n",
       "      <th>1</th>\n",
       "      <td>\\n2.\\nBatoru rowaiaru\\n(2000)\\n</td>\n",
       "      <td>\\nAction, Adventure, Drama</td>\n",
       "      <td>18</td>\n",
       "      <td>2000</td>\n",
       "      <td>114</td>\n",
       "      <td>\\n81        \\n        Metascore\\n</td>\n",
       "      <td>0.0</td>\n",
       "      <td>156</td>\n",
       "      <td>150</td>\n",
       "    </tr>\n",
       "    <tr>\n",
       "      <th>2</th>\n",
       "      <td>\\n3.\\nWo hu cang long\\n(2000)\\n</td>\n",
       "      <td>\\nAction, Adventure, Drama</td>\n",
       "      <td>UA</td>\n",
       "      <td>2000</td>\n",
       "      <td>120</td>\n",
       "      <td>\\n94        \\n        Metascore\\n</td>\n",
       "      <td>5.0</td>\n",
       "      <td>140</td>\n",
       "      <td>170</td>\n",
       "    </tr>\n",
       "    <tr>\n",
       "      <th>3</th>\n",
       "      <td>\\n4.\\nFinal Destination\\n(2000)\\n</td>\n",
       "      <td>\\nHorror, Thriller</td>\n",
       "      <td>A</td>\n",
       "      <td>2000</td>\n",
       "      <td>98</td>\n",
       "      <td>\\n36        \\n        Metascore\\n</td>\n",
       "      <td>1.0</td>\n",
       "      <td>190</td>\n",
       "      <td>230</td>\n",
       "    </tr>\n",
       "    <tr>\n",
       "      <th>4</th>\n",
       "      <td>\\n5.\\nFrequency\\n(2000)\\n</td>\n",
       "      <td>\\nCrime, Drama, Mystery</td>\n",
       "      <td>A</td>\n",
       "      <td>2000</td>\n",
       "      <td>118</td>\n",
       "      <td>\\n67        \\n        Metascore\\n</td>\n",
       "      <td>5.0</td>\n",
       "      <td>165</td>\n",
       "      <td>165</td>\n",
       "    </tr>\n",
       "    <tr>\n",
       "      <th>...</th>\n",
       "      <td>...</td>\n",
       "      <td>...</td>\n",
       "      <td>...</td>\n",
       "      <td>...</td>\n",
       "      <td>...</td>\n",
       "      <td>...</td>\n",
       "      <td>...</td>\n",
       "      <td>...</td>\n",
       "      <td>...</td>\n",
       "    </tr>\n",
       "    <tr>\n",
       "      <th>395</th>\n",
       "      <td>\\n396.\\n6 Souls\\n(2010)\\n</td>\n",
       "      <td>\\nHorror, Mystery, Thriller</td>\n",
       "      <td>NaN</td>\n",
       "      <td>2010</td>\n",
       "      <td>112</td>\n",
       "      <td>NaN</td>\n",
       "      <td>1.0</td>\n",
       "      <td>147</td>\n",
       "      <td>147</td>\n",
       "    </tr>\n",
       "    <tr>\n",
       "      <th>396</th>\n",
       "      <td>\\n397.\\nShutter Island\\n(2010)\\n</td>\n",
       "      <td>\\nMystery, Thriller</td>\n",
       "      <td>NaN</td>\n",
       "      <td>2010</td>\n",
       "      <td>138</td>\n",
       "      <td>NaN</td>\n",
       "      <td>5.0</td>\n",
       "      <td>146</td>\n",
       "      <td>146</td>\n",
       "    </tr>\n",
       "    <tr>\n",
       "      <th>397</th>\n",
       "      <td>\\n398.\\nTangled\\n(2010)\\n</td>\n",
       "      <td>\\nAnimation, Adventure, Comedy</td>\n",
       "      <td>NaN</td>\n",
       "      <td>2010</td>\n",
       "      <td>100</td>\n",
       "      <td>NaN</td>\n",
       "      <td>2.0</td>\n",
       "      <td>144</td>\n",
       "      <td>144</td>\n",
       "    </tr>\n",
       "    <tr>\n",
       "      <th>398</th>\n",
       "      <td>\\n399.\\nThe Chronicles of Narnia: The Voyage o...</td>\n",
       "      <td>\\nAdventure, Family, Fantasy</td>\n",
       "      <td>NaN</td>\n",
       "      <td>2010</td>\n",
       "      <td>113</td>\n",
       "      <td>NaN</td>\n",
       "      <td>5.0</td>\n",
       "      <td>142</td>\n",
       "      <td>142</td>\n",
       "    </tr>\n",
       "    <tr>\n",
       "      <th>399</th>\n",
       "      <td>\\n400.\\nThe Crazies\\n(2010)\\n</td>\n",
       "      <td>\\nHorror, Mystery, Thriller</td>\n",
       "      <td>NaN</td>\n",
       "      <td>2010</td>\n",
       "      <td>101</td>\n",
       "      <td>NaN</td>\n",
       "      <td>3.0</td>\n",
       "      <td>142</td>\n",
       "      <td>142</td>\n",
       "    </tr>\n",
       "  </tbody>\n",
       "</table>\n",
       "<p>400 rows × 9 columns</p>\n",
       "</div>"
      ],
      "text/plain": [
       "                                                 title  \\\n",
       "0                      \\n1.\\nAmerican Psycho\\n(2000)\\n   \n",
       "1                      \\n2.\\nBatoru rowaiaru\\n(2000)\\n   \n",
       "2                      \\n3.\\nWo hu cang long\\n(2000)\\n   \n",
       "3                    \\n4.\\nFinal Destination\\n(2000)\\n   \n",
       "4                            \\n5.\\nFrequency\\n(2000)\\n   \n",
       "..                                                 ...   \n",
       "395                          \\n396.\\n6 Souls\\n(2010)\\n   \n",
       "396                   \\n397.\\nShutter Island\\n(2010)\\n   \n",
       "397                          \\n398.\\nTangled\\n(2010)\\n   \n",
       "398  \\n399.\\nThe Chronicles of Narnia: The Voyage o...   \n",
       "399                      \\n400.\\nThe Crazies\\n(2010)\\n   \n",
       "\n",
       "                                          genre certification  year  time  \\\n",
       "0            \\nCrime, Drama, Horror                         A  2000   102   \n",
       "1        \\nAction, Adventure, Drama                        18  2000   114   \n",
       "2        \\nAction, Adventure, Drama                        UA  2000   120   \n",
       "3                \\nHorror, Thriller                         A  2000    98   \n",
       "4           \\nCrime, Drama, Mystery                         A  2000   118   \n",
       "..                                          ...           ...   ...   ...   \n",
       "395     \\nHorror, Mystery, Thriller                       NaN  2010   112   \n",
       "396             \\nMystery, Thriller                       NaN  2010   138   \n",
       "397  \\nAnimation, Adventure, Comedy                       NaN  2010   100   \n",
       "398    \\nAdventure, Family, Fantasy                       NaN  2010   113   \n",
       "399     \\nHorror, Mystery, Thriller                       NaN  2010   101   \n",
       "\n",
       "                                     metascore  rating  voting  gross  \n",
       "0    \\n64        \\n        Metascore\\n             7.6     130     13  \n",
       "1    \\n81        \\n        Metascore\\n             0.0     156    150  \n",
       "2    \\n94        \\n        Metascore\\n             5.0     140    170  \n",
       "3    \\n36        \\n        Metascore\\n             1.0     190    230  \n",
       "4    \\n67        \\n        Metascore\\n             5.0     165    165  \n",
       "..                                         ...     ...     ...    ...  \n",
       "395                                        NaN     1.0     147    147  \n",
       "396                                        NaN     5.0     146    146  \n",
       "397                                        NaN     2.0     144    144  \n",
       "398                                        NaN     5.0     142    142  \n",
       "399                                        NaN     3.0     142    142  \n",
       "\n",
       "[400 rows x 9 columns]"
      ]
     },
     "execution_count": 100,
     "metadata": {},
     "output_type": "execute_result"
    }
   ],
   "source": [
    "movies_aftercleaning=movies_cleaning1.drop(\"Unnamed: 0\",axis=1)\n",
    "movies_aftercleaning"
   ]
  },
  {
   "cell_type": "code",
   "execution_count": 101,
   "id": "b3b82847",
   "metadata": {},
   "outputs": [
    {
     "data": {
      "text/html": [
       "<div>\n",
       "<style scoped>\n",
       "    .dataframe tbody tr th:only-of-type {\n",
       "        vertical-align: middle;\n",
       "    }\n",
       "\n",
       "    .dataframe tbody tr th {\n",
       "        vertical-align: top;\n",
       "    }\n",
       "\n",
       "    .dataframe thead th {\n",
       "        text-align: right;\n",
       "    }\n",
       "</style>\n",
       "<table border=\"1\" class=\"dataframe\">\n",
       "  <thead>\n",
       "    <tr style=\"text-align: right;\">\n",
       "      <th></th>\n",
       "      <th>title</th>\n",
       "      <th>genre</th>\n",
       "      <th>certification</th>\n",
       "      <th>year</th>\n",
       "      <th>time</th>\n",
       "      <th>metascore</th>\n",
       "      <th>rating</th>\n",
       "      <th>voting</th>\n",
       "      <th>gross</th>\n",
       "    </tr>\n",
       "  </thead>\n",
       "  <tbody>\n",
       "    <tr>\n",
       "      <th>0</th>\n",
       "      <td>\\n1.\\nAmerican Psycho\\n(2000)\\n</td>\n",
       "      <td>\\nCrime, Drama, Horror</td>\n",
       "      <td>A</td>\n",
       "      <td>2000</td>\n",
       "      <td>102</td>\n",
       "      <td>\\n64        \\n        Metascore\\n</td>\n",
       "      <td>7.6</td>\n",
       "      <td>130</td>\n",
       "      <td>13</td>\n",
       "    </tr>\n",
       "    <tr>\n",
       "      <th>1</th>\n",
       "      <td>\\n2.\\nBatoru rowaiaru\\n(2000)\\n</td>\n",
       "      <td>\\nAction, Adventure, Drama</td>\n",
       "      <td>18</td>\n",
       "      <td>2000</td>\n",
       "      <td>114</td>\n",
       "      <td>\\n81        \\n        Metascore\\n</td>\n",
       "      <td>0.0</td>\n",
       "      <td>156</td>\n",
       "      <td>150</td>\n",
       "    </tr>\n",
       "    <tr>\n",
       "      <th>2</th>\n",
       "      <td>\\n3.\\nWo hu cang long\\n(2000)\\n</td>\n",
       "      <td>\\nAction, Adventure, Drama</td>\n",
       "      <td>UA</td>\n",
       "      <td>2000</td>\n",
       "      <td>120</td>\n",
       "      <td>\\n94        \\n        Metascore\\n</td>\n",
       "      <td>5.0</td>\n",
       "      <td>140</td>\n",
       "      <td>170</td>\n",
       "    </tr>\n",
       "    <tr>\n",
       "      <th>3</th>\n",
       "      <td>\\n4.\\nFinal Destination\\n(2000)\\n</td>\n",
       "      <td>\\nHorror, Thriller</td>\n",
       "      <td>A</td>\n",
       "      <td>2000</td>\n",
       "      <td>98</td>\n",
       "      <td>\\n36        \\n        Metascore\\n</td>\n",
       "      <td>1.0</td>\n",
       "      <td>190</td>\n",
       "      <td>230</td>\n",
       "    </tr>\n",
       "    <tr>\n",
       "      <th>4</th>\n",
       "      <td>\\n5.\\nFrequency\\n(2000)\\n</td>\n",
       "      <td>\\nCrime, Drama, Mystery</td>\n",
       "      <td>A</td>\n",
       "      <td>2000</td>\n",
       "      <td>118</td>\n",
       "      <td>\\n67        \\n        Metascore\\n</td>\n",
       "      <td>5.0</td>\n",
       "      <td>165</td>\n",
       "      <td>165</td>\n",
       "    </tr>\n",
       "  </tbody>\n",
       "</table>\n",
       "</div>"
      ],
      "text/plain": [
       "                               title                                   genre  \\\n",
       "0    \\n1.\\nAmerican Psycho\\n(2000)\\n      \\nCrime, Drama, Horror               \n",
       "1    \\n2.\\nBatoru rowaiaru\\n(2000)\\n  \\nAction, Adventure, Drama               \n",
       "2    \\n3.\\nWo hu cang long\\n(2000)\\n  \\nAction, Adventure, Drama               \n",
       "3  \\n4.\\nFinal Destination\\n(2000)\\n          \\nHorror, Thriller               \n",
       "4          \\n5.\\nFrequency\\n(2000)\\n     \\nCrime, Drama, Mystery               \n",
       "\n",
       "  certification  year  time                                  metascore  \\\n",
       "0             A  2000   102  \\n64        \\n        Metascore\\n           \n",
       "1            18  2000   114  \\n81        \\n        Metascore\\n           \n",
       "2            UA  2000   120  \\n94        \\n        Metascore\\n           \n",
       "3             A  2000    98  \\n36        \\n        Metascore\\n           \n",
       "4             A  2000   118  \\n67        \\n        Metascore\\n           \n",
       "\n",
       "   rating  voting  gross  \n",
       "0     7.6     130     13  \n",
       "1     0.0     156    150  \n",
       "2     5.0     140    170  \n",
       "3     1.0     190    230  \n",
       "4     5.0     165    165  "
      ]
     },
     "execution_count": 101,
     "metadata": {},
     "output_type": "execute_result"
    }
   ],
   "source": [
    "a_title=movies_aftercleaning.head()\n",
    "a_title"
   ]
  },
  {
   "cell_type": "code",
   "execution_count": 102,
   "id": "12148f64",
   "metadata": {},
   "outputs": [
    {
     "data": {
      "text/plain": [
       "Index(['title', 'genre', 'certification', 'year', 'time', 'metascore',\n",
       "       'rating', 'voting', 'gross'],\n",
       "      dtype='object')"
      ]
     },
     "execution_count": 102,
     "metadata": {},
     "output_type": "execute_result"
    }
   ],
   "source": [
    "movies_aftercleaning.columns"
   ]
  },
  {
   "cell_type": "markdown",
   "id": "c022d5f3",
   "metadata": {},
   "source": [
    "## DATA VISUALIZATION"
   ]
  },
  {
   "cell_type": "code",
   "execution_count": 103,
   "id": "cb9eac18",
   "metadata": {},
   "outputs": [],
   "source": [
    "import matplotlib.pyplot as plt\n",
    "import seaborn as sns"
   ]
  },
  {
   "cell_type": "markdown",
   "id": "8e62532b",
   "metadata": {},
   "source": [
    "## Reading the Cleaning data to visualize"
   ]
  },
  {
   "cell_type": "code",
   "execution_count": 104,
   "id": "83d5ca07",
   "metadata": {},
   "outputs": [
    {
     "data": {
      "text/html": [
       "<div>\n",
       "<style scoped>\n",
       "    .dataframe tbody tr th:only-of-type {\n",
       "        vertical-align: middle;\n",
       "    }\n",
       "\n",
       "    .dataframe tbody tr th {\n",
       "        vertical-align: top;\n",
       "    }\n",
       "\n",
       "    .dataframe thead th {\n",
       "        text-align: right;\n",
       "    }\n",
       "</style>\n",
       "<table border=\"1\" class=\"dataframe\">\n",
       "  <thead>\n",
       "    <tr style=\"text-align: right;\">\n",
       "      <th></th>\n",
       "      <th>title</th>\n",
       "      <th>genre</th>\n",
       "      <th>certification</th>\n",
       "      <th>year</th>\n",
       "      <th>time</th>\n",
       "      <th>metascore</th>\n",
       "      <th>rating</th>\n",
       "      <th>voting</th>\n",
       "      <th>gross</th>\n",
       "    </tr>\n",
       "  </thead>\n",
       "  <tbody>\n",
       "    <tr>\n",
       "      <th>0</th>\n",
       "      <td>\\n1.\\nAmerican Psycho\\n(2000)\\n</td>\n",
       "      <td>\\nCrime, Drama, Horror</td>\n",
       "      <td>A</td>\n",
       "      <td>2000</td>\n",
       "      <td>102</td>\n",
       "      <td>\\n64        \\n        Metascore\\n</td>\n",
       "      <td>7.6</td>\n",
       "      <td>130</td>\n",
       "      <td>13</td>\n",
       "    </tr>\n",
       "    <tr>\n",
       "      <th>1</th>\n",
       "      <td>\\n2.\\nBatoru rowaiaru\\n(2000)\\n</td>\n",
       "      <td>\\nAction, Adventure, Drama</td>\n",
       "      <td>18</td>\n",
       "      <td>2000</td>\n",
       "      <td>114</td>\n",
       "      <td>\\n81        \\n        Metascore\\n</td>\n",
       "      <td>0.0</td>\n",
       "      <td>156</td>\n",
       "      <td>150</td>\n",
       "    </tr>\n",
       "    <tr>\n",
       "      <th>2</th>\n",
       "      <td>\\n3.\\nWo hu cang long\\n(2000)\\n</td>\n",
       "      <td>\\nAction, Adventure, Drama</td>\n",
       "      <td>UA</td>\n",
       "      <td>2000</td>\n",
       "      <td>120</td>\n",
       "      <td>\\n94        \\n        Metascore\\n</td>\n",
       "      <td>5.0</td>\n",
       "      <td>140</td>\n",
       "      <td>170</td>\n",
       "    </tr>\n",
       "    <tr>\n",
       "      <th>3</th>\n",
       "      <td>\\n4.\\nFinal Destination\\n(2000)\\n</td>\n",
       "      <td>\\nHorror, Thriller</td>\n",
       "      <td>A</td>\n",
       "      <td>2000</td>\n",
       "      <td>98</td>\n",
       "      <td>\\n36        \\n        Metascore\\n</td>\n",
       "      <td>1.0</td>\n",
       "      <td>190</td>\n",
       "      <td>230</td>\n",
       "    </tr>\n",
       "    <tr>\n",
       "      <th>4</th>\n",
       "      <td>\\n5.\\nFrequency\\n(2000)\\n</td>\n",
       "      <td>\\nCrime, Drama, Mystery</td>\n",
       "      <td>A</td>\n",
       "      <td>2000</td>\n",
       "      <td>118</td>\n",
       "      <td>\\n67        \\n        Metascore\\n</td>\n",
       "      <td>5.0</td>\n",
       "      <td>165</td>\n",
       "      <td>165</td>\n",
       "    </tr>\n",
       "    <tr>\n",
       "      <th>...</th>\n",
       "      <td>...</td>\n",
       "      <td>...</td>\n",
       "      <td>...</td>\n",
       "      <td>...</td>\n",
       "      <td>...</td>\n",
       "      <td>...</td>\n",
       "      <td>...</td>\n",
       "      <td>...</td>\n",
       "      <td>...</td>\n",
       "    </tr>\n",
       "    <tr>\n",
       "      <th>395</th>\n",
       "      <td>\\n396.\\n6 Souls\\n(2010)\\n</td>\n",
       "      <td>\\nHorror, Mystery, Thriller</td>\n",
       "      <td>NaN</td>\n",
       "      <td>2010</td>\n",
       "      <td>112</td>\n",
       "      <td>NaN</td>\n",
       "      <td>1.0</td>\n",
       "      <td>147</td>\n",
       "      <td>147</td>\n",
       "    </tr>\n",
       "    <tr>\n",
       "      <th>396</th>\n",
       "      <td>\\n397.\\nShutter Island\\n(2010)\\n</td>\n",
       "      <td>\\nMystery, Thriller</td>\n",
       "      <td>NaN</td>\n",
       "      <td>2010</td>\n",
       "      <td>138</td>\n",
       "      <td>NaN</td>\n",
       "      <td>5.0</td>\n",
       "      <td>146</td>\n",
       "      <td>146</td>\n",
       "    </tr>\n",
       "    <tr>\n",
       "      <th>397</th>\n",
       "      <td>\\n398.\\nTangled\\n(2010)\\n</td>\n",
       "      <td>\\nAnimation, Adventure, Comedy</td>\n",
       "      <td>NaN</td>\n",
       "      <td>2010</td>\n",
       "      <td>100</td>\n",
       "      <td>NaN</td>\n",
       "      <td>2.0</td>\n",
       "      <td>144</td>\n",
       "      <td>144</td>\n",
       "    </tr>\n",
       "    <tr>\n",
       "      <th>398</th>\n",
       "      <td>\\n399.\\nThe Chronicles of Narnia: The Voyage o...</td>\n",
       "      <td>\\nAdventure, Family, Fantasy</td>\n",
       "      <td>NaN</td>\n",
       "      <td>2010</td>\n",
       "      <td>113</td>\n",
       "      <td>NaN</td>\n",
       "      <td>5.0</td>\n",
       "      <td>142</td>\n",
       "      <td>142</td>\n",
       "    </tr>\n",
       "    <tr>\n",
       "      <th>399</th>\n",
       "      <td>\\n400.\\nThe Crazies\\n(2010)\\n</td>\n",
       "      <td>\\nHorror, Mystery, Thriller</td>\n",
       "      <td>NaN</td>\n",
       "      <td>2010</td>\n",
       "      <td>101</td>\n",
       "      <td>NaN</td>\n",
       "      <td>3.0</td>\n",
       "      <td>142</td>\n",
       "      <td>142</td>\n",
       "    </tr>\n",
       "  </tbody>\n",
       "</table>\n",
       "<p>400 rows × 9 columns</p>\n",
       "</div>"
      ],
      "text/plain": [
       "                                                 title  \\\n",
       "0                      \\n1.\\nAmerican Psycho\\n(2000)\\n   \n",
       "1                      \\n2.\\nBatoru rowaiaru\\n(2000)\\n   \n",
       "2                      \\n3.\\nWo hu cang long\\n(2000)\\n   \n",
       "3                    \\n4.\\nFinal Destination\\n(2000)\\n   \n",
       "4                            \\n5.\\nFrequency\\n(2000)\\n   \n",
       "..                                                 ...   \n",
       "395                          \\n396.\\n6 Souls\\n(2010)\\n   \n",
       "396                   \\n397.\\nShutter Island\\n(2010)\\n   \n",
       "397                          \\n398.\\nTangled\\n(2010)\\n   \n",
       "398  \\n399.\\nThe Chronicles of Narnia: The Voyage o...   \n",
       "399                      \\n400.\\nThe Crazies\\n(2010)\\n   \n",
       "\n",
       "                                          genre certification  year  time  \\\n",
       "0            \\nCrime, Drama, Horror                         A  2000   102   \n",
       "1        \\nAction, Adventure, Drama                        18  2000   114   \n",
       "2        \\nAction, Adventure, Drama                        UA  2000   120   \n",
       "3                \\nHorror, Thriller                         A  2000    98   \n",
       "4           \\nCrime, Drama, Mystery                         A  2000   118   \n",
       "..                                          ...           ...   ...   ...   \n",
       "395     \\nHorror, Mystery, Thriller                       NaN  2010   112   \n",
       "396             \\nMystery, Thriller                       NaN  2010   138   \n",
       "397  \\nAnimation, Adventure, Comedy                       NaN  2010   100   \n",
       "398    \\nAdventure, Family, Fantasy                       NaN  2010   113   \n",
       "399     \\nHorror, Mystery, Thriller                       NaN  2010   101   \n",
       "\n",
       "                                     metascore  rating  voting  gross  \n",
       "0    \\n64        \\n        Metascore\\n             7.6     130     13  \n",
       "1    \\n81        \\n        Metascore\\n             0.0     156    150  \n",
       "2    \\n94        \\n        Metascore\\n             5.0     140    170  \n",
       "3    \\n36        \\n        Metascore\\n             1.0     190    230  \n",
       "4    \\n67        \\n        Metascore\\n             5.0     165    165  \n",
       "..                                         ...     ...     ...    ...  \n",
       "395                                        NaN     1.0     147    147  \n",
       "396                                        NaN     5.0     146    146  \n",
       "397                                        NaN     2.0     144    144  \n",
       "398                                        NaN     5.0     142    142  \n",
       "399                                        NaN     3.0     142    142  \n",
       "\n",
       "[400 rows x 9 columns]"
      ]
     },
     "execution_count": 104,
     "metadata": {},
     "output_type": "execute_result"
    }
   ],
   "source": [
    "movies_aftercleaning"
   ]
  },
  {
   "cell_type": "markdown",
   "id": "edc39012",
   "metadata": {},
   "source": [
    "### Total number of value counts in genre"
   ]
  },
  {
   "cell_type": "code",
   "execution_count": 105,
   "id": "9ee41d2a",
   "metadata": {},
   "outputs": [
    {
     "data": {
      "text/plain": [
       "\\nComedy, Drama, Romance                      28\n",
       "\\nAnimation, Adventure, Comedy                14\n",
       "\\nDrama                                       13\n",
       "\\nCrime, Drama, Thriller                      12\n",
       "\\nAction, Crime, Drama                        12\n",
       "                                              ..\n",
       "\\nDrama, Musical                               1\n",
       "\\nBiography, Drama, Family                     1\n",
       "\\nDrama, Romance, Sci-Fi                       1\n",
       "\\nAction, Horror                               1\n",
       "\\nAction, Comedy                               1\n",
       "Name: genre, Length: 140, dtype: int64"
      ]
     },
     "execution_count": 105,
     "metadata": {},
     "output_type": "execute_result"
    }
   ],
   "source": [
    "movies_aftercleaning[\"genre\"].value_counts()"
   ]
  },
  {
   "cell_type": "markdown",
   "id": "8cb57302",
   "metadata": {},
   "source": [
    "### Total number of value counts in certification"
   ]
  },
  {
   "cell_type": "code",
   "execution_count": 106,
   "id": "d7dfda01",
   "metadata": {},
   "outputs": [
    {
     "data": {
      "text/plain": [
       "UA           115\n",
       "U             96\n",
       "A             81\n",
       "R             43\n",
       "PG-13         20\n",
       "18             9\n",
       "PG             5\n",
       "13             4\n",
       "16             3\n",
       "All            2\n",
       "Not Rated      2\n",
       "Unrated        1\n",
       "15+            1\n",
       "UA 16+         1\n",
       "12+            1\n",
       "(Banned)       1\n",
       "Name: certification, dtype: int64"
      ]
     },
     "execution_count": 106,
     "metadata": {},
     "output_type": "execute_result"
    }
   ],
   "source": [
    "movies_aftercleaning[\"certification\"].value_counts()"
   ]
  },
  {
   "cell_type": "code",
   "execution_count": 107,
   "id": "59b1157e",
   "metadata": {},
   "outputs": [
    {
     "data": {
      "text/html": [
       "<div>\n",
       "<style scoped>\n",
       "    .dataframe tbody tr th:only-of-type {\n",
       "        vertical-align: middle;\n",
       "    }\n",
       "\n",
       "    .dataframe tbody tr th {\n",
       "        vertical-align: top;\n",
       "    }\n",
       "\n",
       "    .dataframe thead th {\n",
       "        text-align: right;\n",
       "    }\n",
       "</style>\n",
       "<table border=\"1\" class=\"dataframe\">\n",
       "  <thead>\n",
       "    <tr style=\"text-align: right;\">\n",
       "      <th></th>\n",
       "      <th></th>\n",
       "      <th>certification</th>\n",
       "      <th>year</th>\n",
       "      <th>time</th>\n",
       "      <th>metascore</th>\n",
       "      <th>rating</th>\n",
       "      <th>voting</th>\n",
       "      <th>gross</th>\n",
       "    </tr>\n",
       "    <tr>\n",
       "      <th>title</th>\n",
       "      <th>genre</th>\n",
       "      <th></th>\n",
       "      <th></th>\n",
       "      <th></th>\n",
       "      <th></th>\n",
       "      <th></th>\n",
       "      <th></th>\n",
       "      <th></th>\n",
       "    </tr>\n",
       "  </thead>\n",
       "  <tbody>\n",
       "    <tr>\n",
       "      <th>\\n1.\\nAmerican Psycho\\n(2000)\\n</th>\n",
       "      <th>\\nCrime, Drama, Horror</th>\n",
       "      <td>1</td>\n",
       "      <td>1</td>\n",
       "      <td>1</td>\n",
       "      <td>1</td>\n",
       "      <td>1</td>\n",
       "      <td>1</td>\n",
       "      <td>1</td>\n",
       "    </tr>\n",
       "    <tr>\n",
       "      <th>\\n10.\\nMalèna\\n(2000)\\n</th>\n",
       "      <th>\\nDrama, Romance, War</th>\n",
       "      <td>1</td>\n",
       "      <td>1</td>\n",
       "      <td>1</td>\n",
       "      <td>1</td>\n",
       "      <td>1</td>\n",
       "      <td>1</td>\n",
       "      <td>1</td>\n",
       "    </tr>\n",
       "    <tr>\n",
       "      <th>\\n100.\\nAapthamitra\\n(2004)\\n</th>\n",
       "      <th>\\nDrama, Horror, Thriller</th>\n",
       "      <td>0</td>\n",
       "      <td>1</td>\n",
       "      <td>1</td>\n",
       "      <td>0</td>\n",
       "      <td>1</td>\n",
       "      <td>1</td>\n",
       "      <td>1</td>\n",
       "    </tr>\n",
       "    <tr>\n",
       "      <th>\\n101.\\nAVP: Alien vs. Predator\\n(2004)\\n</th>\n",
       "      <th>\\nAction, Adventure, Horror</th>\n",
       "      <td>1</td>\n",
       "      <td>1</td>\n",
       "      <td>1</td>\n",
       "      <td>1</td>\n",
       "      <td>1</td>\n",
       "      <td>1</td>\n",
       "      <td>1</td>\n",
       "    </tr>\n",
       "    <tr>\n",
       "      <th>\\n102.\\nNae meorisokui jiwoogae\\n(2004)\\n</th>\n",
       "      <th>\\nDrama, Romance</th>\n",
       "      <td>1</td>\n",
       "      <td>1</td>\n",
       "      <td>1</td>\n",
       "      <td>1</td>\n",
       "      <td>1</td>\n",
       "      <td>1</td>\n",
       "      <td>1</td>\n",
       "    </tr>\n",
       "    <tr>\n",
       "      <th>...</th>\n",
       "      <th>...</th>\n",
       "      <td>...</td>\n",
       "      <td>...</td>\n",
       "      <td>...</td>\n",
       "      <td>...</td>\n",
       "      <td>...</td>\n",
       "      <td>...</td>\n",
       "      <td>...</td>\n",
       "    </tr>\n",
       "    <tr>\n",
       "      <th>\\n95.\\nThe Matrix Revolutions\\n(2003)\\n</th>\n",
       "      <th>\\nAction, Sci-Fi</th>\n",
       "      <td>1</td>\n",
       "      <td>1</td>\n",
       "      <td>1</td>\n",
       "      <td>0</td>\n",
       "      <td>1</td>\n",
       "      <td>1</td>\n",
       "      <td>1</td>\n",
       "    </tr>\n",
       "    <tr>\n",
       "      <th>\\n96.\\nThirteen\\n(2003)\\n</th>\n",
       "      <th>\\nDrama</th>\n",
       "      <td>1</td>\n",
       "      <td>1</td>\n",
       "      <td>1</td>\n",
       "      <td>0</td>\n",
       "      <td>1</td>\n",
       "      <td>1</td>\n",
       "      <td>1</td>\n",
       "    </tr>\n",
       "    <tr>\n",
       "      <th>\\n97.\\nUnderworld\\n(2003)\\n</th>\n",
       "      <th>\\nAction, Fantasy, Thriller</th>\n",
       "      <td>1</td>\n",
       "      <td>1</td>\n",
       "      <td>1</td>\n",
       "      <td>0</td>\n",
       "      <td>1</td>\n",
       "      <td>1</td>\n",
       "      <td>1</td>\n",
       "    </tr>\n",
       "    <tr>\n",
       "      <th>\\n98.\\nX2\\n(2003)\\n</th>\n",
       "      <th>\\nAction, Sci-Fi, Thriller</th>\n",
       "      <td>0</td>\n",
       "      <td>1</td>\n",
       "      <td>1</td>\n",
       "      <td>0</td>\n",
       "      <td>1</td>\n",
       "      <td>1</td>\n",
       "      <td>1</td>\n",
       "    </tr>\n",
       "    <tr>\n",
       "      <th>\\n99.\\n50 First Dates\\n(2004)\\n</th>\n",
       "      <th>\\nComedy, Drama, Romance</th>\n",
       "      <td>0</td>\n",
       "      <td>1</td>\n",
       "      <td>1</td>\n",
       "      <td>0</td>\n",
       "      <td>1</td>\n",
       "      <td>1</td>\n",
       "      <td>1</td>\n",
       "    </tr>\n",
       "  </tbody>\n",
       "</table>\n",
       "<p>400 rows × 7 columns</p>\n",
       "</div>"
      ],
      "text/plain": [
       "                                                                                   certification  \\\n",
       "title                                     genre                                                    \n",
       "\\n1.\\nAmerican Psycho\\n(2000)\\n           \\nCrime, Drama, Horror                               1   \n",
       "\\n10.\\nMalèna\\n(2000)\\n                   \\nDrama, Romance, War                                1   \n",
       "\\n100.\\nAapthamitra\\n(2004)\\n             \\nDrama, Horror, Thriller                            0   \n",
       "\\n101.\\nAVP: Alien vs. Predator\\n(2004)\\n \\nAction, Adventure, Horror                          1   \n",
       "\\n102.\\nNae meorisokui jiwoogae\\n(2004)\\n \\nDrama, Romance                                     1   \n",
       "...                                                                                          ...   \n",
       "\\n95.\\nThe Matrix Revolutions\\n(2003)\\n   \\nAction, Sci-Fi                                     1   \n",
       "\\n96.\\nThirteen\\n(2003)\\n                 \\nDrama                                              1   \n",
       "\\n97.\\nUnderworld\\n(2003)\\n               \\nAction, Fantasy, Thriller                          1   \n",
       "\\n98.\\nX2\\n(2003)\\n                       \\nAction, Sci-Fi, Thriller                           0   \n",
       "\\n99.\\n50 First Dates\\n(2004)\\n           \\nComedy, Drama, Romance                             0   \n",
       "\n",
       "                                                                                   year  \\\n",
       "title                                     genre                                           \n",
       "\\n1.\\nAmerican Psycho\\n(2000)\\n           \\nCrime, Drama, Horror                      1   \n",
       "\\n10.\\nMalèna\\n(2000)\\n                   \\nDrama, Romance, War                       1   \n",
       "\\n100.\\nAapthamitra\\n(2004)\\n             \\nDrama, Horror, Thriller                   1   \n",
       "\\n101.\\nAVP: Alien vs. Predator\\n(2004)\\n \\nAction, Adventure, Horror                 1   \n",
       "\\n102.\\nNae meorisokui jiwoogae\\n(2004)\\n \\nDrama, Romance                            1   \n",
       "...                                                                                 ...   \n",
       "\\n95.\\nThe Matrix Revolutions\\n(2003)\\n   \\nAction, Sci-Fi                            1   \n",
       "\\n96.\\nThirteen\\n(2003)\\n                 \\nDrama                                     1   \n",
       "\\n97.\\nUnderworld\\n(2003)\\n               \\nAction, Fantasy, Thriller                 1   \n",
       "\\n98.\\nX2\\n(2003)\\n                       \\nAction, Sci-Fi, Thriller                  1   \n",
       "\\n99.\\n50 First Dates\\n(2004)\\n           \\nComedy, Drama, Romance                    1   \n",
       "\n",
       "                                                                                   time  \\\n",
       "title                                     genre                                           \n",
       "\\n1.\\nAmerican Psycho\\n(2000)\\n           \\nCrime, Drama, Horror                      1   \n",
       "\\n10.\\nMalèna\\n(2000)\\n                   \\nDrama, Romance, War                       1   \n",
       "\\n100.\\nAapthamitra\\n(2004)\\n             \\nDrama, Horror, Thriller                   1   \n",
       "\\n101.\\nAVP: Alien vs. Predator\\n(2004)\\n \\nAction, Adventure, Horror                 1   \n",
       "\\n102.\\nNae meorisokui jiwoogae\\n(2004)\\n \\nDrama, Romance                            1   \n",
       "...                                                                                 ...   \n",
       "\\n95.\\nThe Matrix Revolutions\\n(2003)\\n   \\nAction, Sci-Fi                            1   \n",
       "\\n96.\\nThirteen\\n(2003)\\n                 \\nDrama                                     1   \n",
       "\\n97.\\nUnderworld\\n(2003)\\n               \\nAction, Fantasy, Thriller                 1   \n",
       "\\n98.\\nX2\\n(2003)\\n                       \\nAction, Sci-Fi, Thriller                  1   \n",
       "\\n99.\\n50 First Dates\\n(2004)\\n           \\nComedy, Drama, Romance                    1   \n",
       "\n",
       "                                                                                   metascore  \\\n",
       "title                                     genre                                                \n",
       "\\n1.\\nAmerican Psycho\\n(2000)\\n           \\nCrime, Drama, Horror                           1   \n",
       "\\n10.\\nMalèna\\n(2000)\\n                   \\nDrama, Romance, War                            1   \n",
       "\\n100.\\nAapthamitra\\n(2004)\\n             \\nDrama, Horror, Thriller                        0   \n",
       "\\n101.\\nAVP: Alien vs. Predator\\n(2004)\\n \\nAction, Adventure, Horror                      1   \n",
       "\\n102.\\nNae meorisokui jiwoogae\\n(2004)\\n \\nDrama, Romance                                 1   \n",
       "...                                                                                      ...   \n",
       "\\n95.\\nThe Matrix Revolutions\\n(2003)\\n   \\nAction, Sci-Fi                                 0   \n",
       "\\n96.\\nThirteen\\n(2003)\\n                 \\nDrama                                          0   \n",
       "\\n97.\\nUnderworld\\n(2003)\\n               \\nAction, Fantasy, Thriller                      0   \n",
       "\\n98.\\nX2\\n(2003)\\n                       \\nAction, Sci-Fi, Thriller                       0   \n",
       "\\n99.\\n50 First Dates\\n(2004)\\n           \\nComedy, Drama, Romance                         0   \n",
       "\n",
       "                                                                                   rating  \\\n",
       "title                                     genre                                             \n",
       "\\n1.\\nAmerican Psycho\\n(2000)\\n           \\nCrime, Drama, Horror                        1   \n",
       "\\n10.\\nMalèna\\n(2000)\\n                   \\nDrama, Romance, War                         1   \n",
       "\\n100.\\nAapthamitra\\n(2004)\\n             \\nDrama, Horror, Thriller                     1   \n",
       "\\n101.\\nAVP: Alien vs. Predator\\n(2004)\\n \\nAction, Adventure, Horror                   1   \n",
       "\\n102.\\nNae meorisokui jiwoogae\\n(2004)\\n \\nDrama, Romance                              1   \n",
       "...                                                                                   ...   \n",
       "\\n95.\\nThe Matrix Revolutions\\n(2003)\\n   \\nAction, Sci-Fi                              1   \n",
       "\\n96.\\nThirteen\\n(2003)\\n                 \\nDrama                                       1   \n",
       "\\n97.\\nUnderworld\\n(2003)\\n               \\nAction, Fantasy, Thriller                   1   \n",
       "\\n98.\\nX2\\n(2003)\\n                       \\nAction, Sci-Fi, Thriller                    1   \n",
       "\\n99.\\n50 First Dates\\n(2004)\\n           \\nComedy, Drama, Romance                      1   \n",
       "\n",
       "                                                                                   voting  \\\n",
       "title                                     genre                                             \n",
       "\\n1.\\nAmerican Psycho\\n(2000)\\n           \\nCrime, Drama, Horror                        1   \n",
       "\\n10.\\nMalèna\\n(2000)\\n                   \\nDrama, Romance, War                         1   \n",
       "\\n100.\\nAapthamitra\\n(2004)\\n             \\nDrama, Horror, Thriller                     1   \n",
       "\\n101.\\nAVP: Alien vs. Predator\\n(2004)\\n \\nAction, Adventure, Horror                   1   \n",
       "\\n102.\\nNae meorisokui jiwoogae\\n(2004)\\n \\nDrama, Romance                              1   \n",
       "...                                                                                   ...   \n",
       "\\n95.\\nThe Matrix Revolutions\\n(2003)\\n   \\nAction, Sci-Fi                              1   \n",
       "\\n96.\\nThirteen\\n(2003)\\n                 \\nDrama                                       1   \n",
       "\\n97.\\nUnderworld\\n(2003)\\n               \\nAction, Fantasy, Thriller                   1   \n",
       "\\n98.\\nX2\\n(2003)\\n                       \\nAction, Sci-Fi, Thriller                    1   \n",
       "\\n99.\\n50 First Dates\\n(2004)\\n           \\nComedy, Drama, Romance                      1   \n",
       "\n",
       "                                                                                   gross  \n",
       "title                                     genre                                           \n",
       "\\n1.\\nAmerican Psycho\\n(2000)\\n           \\nCrime, Drama, Horror                       1  \n",
       "\\n10.\\nMalèna\\n(2000)\\n                   \\nDrama, Romance, War                        1  \n",
       "\\n100.\\nAapthamitra\\n(2004)\\n             \\nDrama, Horror, Thriller                    1  \n",
       "\\n101.\\nAVP: Alien vs. Predator\\n(2004)\\n \\nAction, Adventure, Horror                  1  \n",
       "\\n102.\\nNae meorisokui jiwoogae\\n(2004)\\n \\nDrama, Romance                             1  \n",
       "...                                                                                  ...  \n",
       "\\n95.\\nThe Matrix Revolutions\\n(2003)\\n   \\nAction, Sci-Fi                             1  \n",
       "\\n96.\\nThirteen\\n(2003)\\n                 \\nDrama                                      1  \n",
       "\\n97.\\nUnderworld\\n(2003)\\n               \\nAction, Fantasy, Thriller                  1  \n",
       "\\n98.\\nX2\\n(2003)\\n                       \\nAction, Sci-Fi, Thriller                   1  \n",
       "\\n99.\\n50 First Dates\\n(2004)\\n           \\nComedy, Drama, Romance                     1  \n",
       "\n",
       "[400 rows x 7 columns]"
      ]
     },
     "execution_count": 107,
     "metadata": {},
     "output_type": "execute_result"
    }
   ],
   "source": [
    "movies_aftercleaning.groupby(['title','genre']).count()"
   ]
  },
  {
   "cell_type": "code",
   "execution_count": 108,
   "id": "e02d8ae3",
   "metadata": {},
   "outputs": [
    {
     "data": {
      "text/html": [
       "<div>\n",
       "<style scoped>\n",
       "    .dataframe tbody tr th:only-of-type {\n",
       "        vertical-align: middle;\n",
       "    }\n",
       "\n",
       "    .dataframe tbody tr th {\n",
       "        vertical-align: top;\n",
       "    }\n",
       "\n",
       "    .dataframe thead th {\n",
       "        text-align: right;\n",
       "    }\n",
       "</style>\n",
       "<table border=\"1\" class=\"dataframe\">\n",
       "  <thead>\n",
       "    <tr style=\"text-align: right;\">\n",
       "      <th></th>\n",
       "      <th>year</th>\n",
       "      <th>time</th>\n",
       "      <th>rating</th>\n",
       "      <th>voting</th>\n",
       "      <th>gross</th>\n",
       "    </tr>\n",
       "  </thead>\n",
       "  <tbody>\n",
       "    <tr>\n",
       "      <th>count</th>\n",
       "      <td>400.000000</td>\n",
       "      <td>400.000000</td>\n",
       "      <td>400.000000</td>\n",
       "      <td>400.000000</td>\n",
       "      <td>400.000000</td>\n",
       "    </tr>\n",
       "    <tr>\n",
       "      <th>mean</th>\n",
       "      <td>2005.670000</td>\n",
       "      <td>118.292500</td>\n",
       "      <td>4.959750</td>\n",
       "      <td>188.950000</td>\n",
       "      <td>188.420000</td>\n",
       "    </tr>\n",
       "    <tr>\n",
       "      <th>std</th>\n",
       "      <td>2.865594</td>\n",
       "      <td>25.899787</td>\n",
       "      <td>2.278879</td>\n",
       "      <td>99.355555</td>\n",
       "      <td>100.735061</td>\n",
       "    </tr>\n",
       "    <tr>\n",
       "      <th>min</th>\n",
       "      <td>2000.000000</td>\n",
       "      <td>71.000000</td>\n",
       "      <td>0.000000</td>\n",
       "      <td>2.000000</td>\n",
       "      <td>2.000000</td>\n",
       "    </tr>\n",
       "    <tr>\n",
       "      <th>25%</th>\n",
       "      <td>2004.000000</td>\n",
       "      <td>100.000000</td>\n",
       "      <td>5.000000</td>\n",
       "      <td>153.000000</td>\n",
       "      <td>153.000000</td>\n",
       "    </tr>\n",
       "    <tr>\n",
       "      <th>50%</th>\n",
       "      <td>2006.000000</td>\n",
       "      <td>112.000000</td>\n",
       "      <td>5.000000</td>\n",
       "      <td>178.000000</td>\n",
       "      <td>178.000000</td>\n",
       "    </tr>\n",
       "    <tr>\n",
       "      <th>75%</th>\n",
       "      <td>2008.000000</td>\n",
       "      <td>129.000000</td>\n",
       "      <td>5.000000</td>\n",
       "      <td>223.750000</td>\n",
       "      <td>229.250000</td>\n",
       "    </tr>\n",
       "    <tr>\n",
       "      <th>max</th>\n",
       "      <td>2010.000000</td>\n",
       "      <td>224.000000</td>\n",
       "      <td>10.000000</td>\n",
       "      <td>804.000000</td>\n",
       "      <td>804.000000</td>\n",
       "    </tr>\n",
       "  </tbody>\n",
       "</table>\n",
       "</div>"
      ],
      "text/plain": [
       "              year        time      rating      voting       gross\n",
       "count   400.000000  400.000000  400.000000  400.000000  400.000000\n",
       "mean   2005.670000  118.292500    4.959750  188.950000  188.420000\n",
       "std       2.865594   25.899787    2.278879   99.355555  100.735061\n",
       "min    2000.000000   71.000000    0.000000    2.000000    2.000000\n",
       "25%    2004.000000  100.000000    5.000000  153.000000  153.000000\n",
       "50%    2006.000000  112.000000    5.000000  178.000000  178.000000\n",
       "75%    2008.000000  129.000000    5.000000  223.750000  229.250000\n",
       "max    2010.000000  224.000000   10.000000  804.000000  804.000000"
      ]
     },
     "execution_count": 108,
     "metadata": {},
     "output_type": "execute_result"
    }
   ],
   "source": [
    "movies_aftercleaning.describe()"
   ]
  },
  {
   "cell_type": "markdown",
   "id": "0d509071",
   "metadata": {},
   "source": [
    "## Univariet analysis"
   ]
  },
  {
   "cell_type": "code",
   "execution_count": 208,
   "id": "25decb4a",
   "metadata": {},
   "outputs": [
    {
     "name": "stderr",
     "output_type": "stream",
     "text": [
      "C:\\Users\\Reddy\\anaconda3\\lib\\site-packages\\seaborn\\distributions.py:2619: FutureWarning: `distplot` is a deprecated function and will be removed in a future version. Please adapt your code to use either `displot` (a figure-level function with similar flexibility) or `histplot` (an axes-level function for histograms).\n",
      "  warnings.warn(msg, FutureWarning)\n"
     ]
    },
    {
     "data": {
      "text/plain": [
       "<AxesSubplot:xlabel='rating', ylabel='Density'>"
      ]
     },
     "execution_count": 208,
     "metadata": {},
     "output_type": "execute_result"
    },
    {
     "data": {
      "image/png": "[encoded data removed]",
      "text/plain": [
       "<Figure size 432x288 with 1 Axes>"
      ]
     },
     "metadata": {
      "needs_background": "light"
     },
     "output_type": "display_data"
    }
   ],
   "source": [
    "sns.distplot(movies_aftercleaning['rating'])"
   ]
  },
  {
   "cell_type": "markdown",
   "id": "44c977da",
   "metadata": {},
   "source": [
    "## Pie Chart"
   ]
  },
  {
   "cell_type": "code",
   "execution_count": 209,
   "id": "1391eadd",
   "metadata": {},
   "outputs": [
    {
     "data": {
      "text/plain": [
       "Text(0.5, 1.0, 'movies percentage_wise')"
      ]
     },
     "execution_count": 209,
     "metadata": {},
     "output_type": "execute_result"
    },
    {
     "data": {
      "image/png": "[encoded data removed]",
      "text/plain": [
       "<Figure size 640x640 with 1 Axes>"
      ]
     },
     "metadata": {},
     "output_type": "display_data"
    }
   ],
   "source": [
    "year=['2000', '2001', '2002', '2003','2004']\n",
    "rating=['5.2','3.2','3.0','4.5','4.0']\n",
    "\n",
    "plt.figure(figsize=(8,8),dpi=80)\n",
    "\n",
    "\n",
    "a_title.value_counts().plot.pie()\n",
    "plt.pie(year,labels=a_title, autopct='%.0f%%')\n",
    "\n",
    "plt.title('movies percentage_wise')\n",
    "#plt.legend();"
   ]
  },
  {
   "cell_type": "markdown",
   "id": "cba17670",
   "metadata": {},
   "source": [
    "## Bar chart"
   ]
  },
  {
   "cell_type": "markdown",
   "id": "c0aa0b99",
   "metadata": {},
   "source": [
    "## Comparing Year wise title"
   ]
  },
  {
   "cell_type": "code",
   "execution_count": 158,
   "id": "495d0362",
   "metadata": {},
   "outputs": [],
   "source": [
    "import numpy as np"
   ]
  },
  {
   "cell_type": "code",
   "execution_count": 183,
   "id": "46f7cbfe",
   "metadata": {},
   "outputs": [
    {
     "data": {
      "text/plain": [
       "([<matplotlib.axis.XTick at 0x268543b7850>,\n",
       "  <matplotlib.axis.XTick at 0x268543b7820>],\n",
       " [Text(0, 0, ''), Text(0, 0, '')])"
      ]
     },
     "execution_count": 183,
     "metadata": {},
     "output_type": "execute_result"
    },
    {
     "data": {
      "image/png": "[encoded data removed]",
      "text/plain": [
       "<Figure size 432x288 with 1 Axes>"
      ]
     },
     "metadata": {
      "needs_background": "light"
     },
     "output_type": "display_data"
    }
   ],
   "source": [
    "plt.bar(a_title.year, a_title['title'])\n",
    "#sns.catplot(x=\"title\", y='year', data=a_title, kind='bar',ci=None)\n",
    "plt.xlabel('Year')\n",
    "plt.ylabel('Title')\n",
    "\n",
    "plt.xticks(rotation = 90)\n",
    "plt.xticks(np.arange(2000,2010,5))\n"
   ]
  },
  {
   "cell_type": "markdown",
   "id": "5c12effb",
   "metadata": {},
   "source": [
    "## Comparing Year wise Voting"
   ]
  },
  {
   "cell_type": "code",
   "execution_count": 167,
   "id": "0df74134",
   "metadata": {},
   "outputs": [
    {
     "data": {
      "image/png": "[encoded data removed]",
      "text/plain": [
       "<Figure size 432x360 with 1 Axes>"
      ]
     },
     "metadata": {
      "needs_background": "light"
     },
     "output_type": "display_data"
    }
   ],
   "source": [
    "#sns.barplot(x='year',y='',data=movies_cleaning)\n",
    "plt.figure(figsize=(6,5))\n",
    "sns.barplot(x='title', y='rating', data=a_title)\n",
    "plt.xticks(rotation=90)\n",
    "\n",
    "plt.show()"
   ]
  },
  {
   "cell_type": "markdown",
   "id": "d6d11c75",
   "metadata": {},
   "source": [
    "## Comparing Year and Gross"
   ]
  },
  {
   "cell_type": "code",
   "execution_count": 132,
   "id": "fb63e6d4",
   "metadata": {},
   "outputs": [
    {
     "data": {
      "image/png": "[encoded data removed]",
      "text/plain": [
       "<Figure size 360x576 with 1 Axes>"
      ]
     },
     "metadata": {
      "needs_background": "light"
     },
     "output_type": "display_data"
    }
   ],
   "source": [
    "plt.figure(figsize=(5,8))\n",
    "sns.barplot(x='year', y='gross', data=a_title)\n",
    "plt.xticks(rotation=70)\n",
    "\n",
    "plt.show()"
   ]
  },
  {
   "cell_type": "markdown",
   "id": "80c22cb5",
   "metadata": {},
   "source": [
    "## Comparing title and Rating"
   ]
  },
  {
   "cell_type": "code",
   "execution_count": 186,
   "id": "d5a07594",
   "metadata": {},
   "outputs": [
    {
     "data": {
      "image/png": "[encoded data removed]",
      "text/plain": [
       "<Figure size 360x360 with 1 Axes>"
      ]
     },
     "metadata": {
      "needs_background": "light"
     },
     "output_type": "display_data"
    }
   ],
   "source": [
    "plt.figure(figsize=(5,5))\n",
    "sns.barplot(x='title', y='rating', data=a_title)\n",
    "plt.xticks(rotation=70)\n",
    "\n",
    "plt.show()"
   ]
  },
  {
   "cell_type": "markdown",
   "id": "24d8f340",
   "metadata": {},
   "source": [
    "## BoxPlot"
   ]
  },
  {
   "cell_type": "markdown",
   "id": "dace5d19",
   "metadata": {},
   "source": [
    "### To show the Outliers we use BoxPlot"
   ]
  },
  {
   "cell_type": "markdown",
   "id": "fc07d46a",
   "metadata": {},
   "source": [
    "##### Boxplot between title and voting"
   ]
  },
  {
   "cell_type": "code",
   "execution_count": 207,
   "id": "4a104b96",
   "metadata": {},
   "outputs": [
    {
     "data": {
      "text/plain": [
       "(array([0, 1, 2, 3, 4]),\n",
       " [Text(0, 0, '\\n1.\\nAmerican Psycho\\n(2000)\\n'),\n",
       "  Text(1, 0, '\\n2.\\nBatoru rowaiaru\\n(2000)\\n'),\n",
       "  Text(2, 0, '\\n3.\\nWo hu cang long\\n(2000)\\n'),\n",
       "  Text(3, 0, '\\n4.\\nFinal Destination\\n(2000)\\n'),\n",
       "  Text(4, 0, '\\n5.\\nFrequency\\n(2000)\\n')])"
      ]
     },
     "execution_count": 207,
     "metadata": {},
     "output_type": "execute_result"
    },
    {
     "data": {
      "image/png": "[encoded data removed]",
      "text/plain": [
       "<Figure size 576x360 with 1 Axes>"
      ]
     },
     "metadata": {
      "needs_background": "light"
     },
     "output_type": "display_data"
    }
   ],
   "source": [
    "plt.figure(figsize=(8,5))\n",
    "sns.boxplot(x='title', y='voting', data=a_title)\n",
    "plt.xticks(rotation=70)\n"
   ]
  },
  {
   "cell_type": "markdown",
   "id": "37d395be",
   "metadata": {},
   "source": [
    "#### Boxplot between title and rating"
   ]
  },
  {
   "cell_type": "code",
   "execution_count": 206,
   "id": "8d2506df",
   "metadata": {},
   "outputs": [
    {
     "data": {
      "text/plain": [
       "(array([0, 1, 2, 3, 4]),\n",
       " [Text(0, 0, '\\n1.\\nAmerican Psycho\\n(2000)\\n'),\n",
       "  Text(1, 0, '\\n2.\\nBatoru rowaiaru\\n(2000)\\n'),\n",
       "  Text(2, 0, '\\n3.\\nWo hu cang long\\n(2000)\\n'),\n",
       "  Text(3, 0, '\\n4.\\nFinal Destination\\n(2000)\\n'),\n",
       "  Text(4, 0, '\\n5.\\nFrequency\\n(2000)\\n')])"
      ]
     },
     "execution_count": 206,
     "metadata": {},
     "output_type": "execute_result"
    },
    {
     "data": {
      "image/png": "[encoded data removed]",
      "text/plain": [
       "<Figure size 360x360 with 1 Axes>"
      ]
     },
     "metadata": {
      "needs_background": "light"
     },
     "output_type": "display_data"
    }
   ],
   "source": [
    "plt.figure(figsize=(5,5))\n",
    "sns.boxplot(x=\"title\",y=\"rating\",data=a_title)\n",
    "plt.xticks(rotation=70)\n"
   ]
  },
  {
   "cell_type": "markdown",
   "id": "ee12d17e",
   "metadata": {},
   "source": [
    "# Correlation Analysis"
   ]
  },
  {
   "cell_type": "code",
   "execution_count": 195,
   "id": "4f3a5567",
   "metadata": {},
   "outputs": [
    {
     "data": {
      "text/plain": [
       "<AxesSubplot:>"
      ]
     },
     "execution_count": 195,
     "metadata": {},
     "output_type": "execute_result"
    },
    {
     "data": {
      "image/png": "[encoded data removed]",
      "text/plain": [
       "<Figure size 432x288 with 2 Axes>"
      ]
     },
     "metadata": {
      "needs_background": "light"
     },
     "output_type": "display_data"
    }
   ],
   "source": [
    "sns.heatmap(a_title.corr(),annot=True)"
   ]
  },
  {
   "cell_type": "markdown",
   "id": "bf5dbfd0",
   "metadata": {},
   "source": [
    "## MultiVariet Analysis"
   ]
  },
  {
   "cell_type": "markdown",
   "id": "42464c9f",
   "metadata": {},
   "source": [
    "# PairPlot"
   ]
  },
  {
   "cell_type": "code",
   "execution_count": 205,
   "id": "e1c8645f",
   "metadata": {},
   "outputs": [
    {
     "data": {
      "text/plain": [
       "<seaborn.axisgrid.PairGrid at 0x268590c2ac0>"
      ]
     },
     "execution_count": 205,
     "metadata": {},
     "output_type": "execute_result"
    },
    {
     "data": {
      "image/png": "[encoded data removed]",
      "text/plain": [
       "<Figure size 900x900 with 30 Axes>"
      ]
     },
     "metadata": {
      "needs_background": "light"
     },
     "output_type": "display_data"
    }
   ],
   "source": [
    "sns.pairplot(a_title)\n"
   ]
  },
  {
   "cell_type": "code",
   "execution_count": 197,
   "id": "697fa141",
   "metadata": {},
   "outputs": [
    {
     "data": {
      "text/plain": [
       "array([2000], dtype=int64)"
      ]
     },
     "execution_count": 197,
     "metadata": {},
     "output_type": "execute_result"
    }
   ],
   "source": [
    "a_title[\"year\"].unique()"
   ]
  },
  {
   "cell_type": "code",
   "execution_count": 200,
   "id": "c5ef9e68",
   "metadata": {},
   "outputs": [
    {
     "data": {
      "text/plain": [
       "<seaborn.axisgrid.PairGrid at 0x26858145790>"
      ]
     },
     "execution_count": 200,
     "metadata": {},
     "output_type": "execute_result"
    },
    {
     "data": {
      "image/png": "[encoded data removed]",
      "text/plain": [
       "<Figure size 772x720 with 20 Axes>"
      ]
     },
     "metadata": {
      "needs_background": "light"
     },
     "output_type": "display_data"
    }
   ],
   "source": [
    "sns.pairplot(a_title,hue=\"rating\")\n"
   ]
  },
  {
   "cell_type": "markdown",
   "id": "ef61a2fc",
   "metadata": {},
   "source": [
    "## Histogram by using seaborn"
   ]
  },
  {
   "cell_type": "code",
   "execution_count": 210,
   "id": "8681c03d",
   "metadata": {},
   "outputs": [
    {
     "data": {
      "text/plain": [
       "Text(0.5, 0, 'rating')"
      ]
     },
     "execution_count": 210,
     "metadata": {},
     "output_type": "execute_result"
    },
    {
     "data": {
      "image/png": "[encoded data removed]",
      "text/plain": [
       "<Figure size 432x288 with 1 Axes>"
      ]
     },
     "metadata": {
      "needs_background": "light"
     },
     "output_type": "display_data"
    }
   ],
   "source": [
    "plt.hist(a_title['rating'],edgecolor=\"Black\")\n",
    "\n",
    "plt.xlabel('rating')\n"
   ]
  },
  {
   "cell_type": "code",
   "execution_count": null,
   "id": "603a62f0",
   "metadata": {},
   "outputs": [],
   "source": []
  }
 ],
 "metadata": {
  "kernelspec": {
   "display_name": "Python 3 (ipykernel)",
   "language": "python",
   "name": "python3"
  },
  "language_info": {
   "codemirror_mode": {
    "name": "ipython",
    "version": 3
   },
   "file_extension": ".py",
   "mimetype": "text/x-python",
   "name": "python",
   "nbconvert_exporter": "python",
   "pygments_lexer": "ipython3",
   "version": "3.9.7"
  }
 },
 "nbformat": 4,
 "nbformat_minor": 5
}
